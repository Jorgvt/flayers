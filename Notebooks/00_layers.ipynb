{
 "cells": [
  {
   "cell_type": "markdown",
   "metadata": {},
   "source": [
    "# Layers\n",
    "\n",
    "> Functional layers that are trainable with backpropagation."
   ]
  },
  {
   "cell_type": "code",
   "execution_count": null,
   "metadata": {},
   "outputs": [],
   "source": [
    "#| default_exp layers"
   ]
  },
  {
   "cell_type": "code",
   "execution_count": null,
   "metadata": {},
   "outputs": [],
   "source": [
    "%load_ext autoreload\n",
    "%autoreload 2"
   ]
  },
  {
   "cell_type": "code",
   "execution_count": null,
   "metadata": {},
   "outputs": [],
   "source": [
    "#| hide\n",
    "#| export\n",
    "import numpy as np\n",
    "import tensorflow as tf"
   ]
  },
  {
   "cell_type": "code",
   "execution_count": null,
   "metadata": {},
   "outputs": [],
   "source": [
    "#| hide\n",
    "from nbdev.showdoc import *\n",
    "import matplotlib.pyplot as plt"
   ]
  },
  {
   "cell_type": "markdown",
   "metadata": {},
   "source": [
    "## Gabor layer\n",
    "\n",
    "> Convolutional layer that forces a functional Gabor form for its filters. Every parameter of the Gabor can be learnt."
   ]
  },
  {
   "cell_type": "markdown",
   "metadata": {},
   "source": [
    "## Managing `dtype`\n",
    "\n",
    "`Tensorflow` is a bit picky when it comes to `dtype`, so it can be useful to define a function that will ensure that every parameter is casted to the same `dtype`:"
   ]
  },
  {
   "cell_type": "code",
   "execution_count": null,
   "metadata": {},
   "outputs": [],
   "source": [
    "#| exporti\n",
    "def cast_all(*args, dtype=tf.float32):\n",
    "    return [tf.cast(arg, dtype=dtype) for arg in args]"
   ]
  },
  {
   "cell_type": "code",
   "execution_count": null,
   "metadata": {},
   "outputs": [
    {
     "name": "stdout",
     "output_type": "stream",
     "text": [
      "<dtype: 'int32'>Metal device set to: Apple M1 Pro\n",
      "\n",
      "systemMemory: 16.00 GB\n",
      "maxCacheSize: 5.33 GB\n",
      "\n",
      " <dtype: 'float32'>\n"
     ]
    },
    {
     "name": "stderr",
     "output_type": "stream",
     "text": [
      "2022-09-05 12:12:09.182081: I tensorflow/core/common_runtime/pluggable_device/pluggable_device_factory.cc:305] Could not identify NUMA node of platform GPU ID 0, defaulting to 0. Your kernel may not have been built with NUMA support.\n",
      "2022-09-05 12:12:09.182479: I tensorflow/core/common_runtime/pluggable_device/pluggable_device_factory.cc:271] Created TensorFlow device (/job:localhost/replica:0/task:0/device:GPU:0 with 0 MB memory) -> physical PluggableDevice (device: 0, name: METAL, pci bus id: <undefined>)\n"
     ]
    }
   ],
   "source": [
    "a, b = tf.convert_to_tensor(1), tf.convert_to_tensor(1.1)\n",
    "print(a.dtype, b.dtype)\n",
    "# assert a.dtype != b.dtype"
   ]
  },
  {
   "cell_type": "code",
   "execution_count": null,
   "metadata": {},
   "outputs": [
    {
     "name": "stdout",
     "output_type": "stream",
     "text": [
      "<dtype: 'float32'> <dtype: 'float32'>\n"
     ]
    }
   ],
   "source": [
    "c, d = cast_all(a, b)\n",
    "print(c.dtype, d.dtype)\n",
    "assert c.dtype == d.dtype"
   ]
  },
  {
   "cell_type": "markdown",
   "metadata": {},
   "source": [
    "## Creating a Gabor filter in `TensorFlow`\n",
    "\n",
    "First of all we need to be able to generate Gabor filters as `Tensorflow` `Tensor`:"
   ]
  },
  {
   "cell_type": "code",
   "execution_count": null,
   "metadata": {},
   "outputs": [],
   "source": [
    "#| export\n",
    "@tf.function\n",
    "def gabor_2d_tf(i, # Horizontal domain\n",
    "                j, # Vertical domain\n",
    "                imean, # Horizontal mean\n",
    "                jmean, # Vertical mean\n",
    "                sigma_i, # Horizontal width\n",
    "                sigma_j, # Vertical width\n",
    "                freq, # Frecuency of the filter\n",
    "                theta, # Angle of the filter\n",
    "                sigma_theta # Width of the angle?? Rotation of the domain??\n",
    "                ):\n",
    "    i, j, imean, jmean, sigma_i, sigma_j, freq, theta, sigma_theta, PI = cast_all(i, j, imean, jmean, sigma_i, sigma_j, freq, theta, sigma_theta, np.pi)\n",
    "    sigma_vector = tf.convert_to_tensor([sigma_i, sigma_j])\n",
    "    cov_matrix = tf.linalg.diag(sigma_vector)**2\n",
    "    det_cov_matrix = tf.linalg.det(cov_matrix)\n",
    "    constant = tf.convert_to_tensor((1/(2*PI*tf.sqrt(det_cov_matrix))))\n",
    "    rotation_matrix = tf.convert_to_tensor([[tf.cos(sigma_theta), -tf.sin(sigma_theta)],\n",
    "                                            [tf.sin(sigma_theta), tf.cos(sigma_theta)]])\n",
    "    rotated_covariance = tf.cast(rotation_matrix @ tf.linalg.inv(cov_matrix) @ tf.transpose(rotation_matrix), tf.float32)\n",
    "\n",
    "    x_r_1 = rotated_covariance[0,0] * i + rotated_covariance[0,1] * j\n",
    "    y_r_1 = rotated_covariance[1,0] * i + rotated_covariance[1,1] * j\n",
    "\n",
    "    distance = i * x_r_1 + j * y_r_1\n",
    "\n",
    "    gabor = constant * tf.exp(-distance/2) * tf.cos(2*3.14*freq*(i*tf.cos(theta)+j*tf.sin(theta)))\n",
    "\n",
    "    return gabor"
   ]
  },
  {
   "cell_type": "code",
   "execution_count": null,
   "metadata": {},
   "outputs": [],
   "source": [
    "#| export\n",
    "@tf.function\n",
    "def create_gabor_rot_tf(Nrows, # Number of horizontal pixels\n",
    "                        Ncols, # Number of vertical pixels\n",
    "                        imean, # Horizontal mean *(in degrees)*\n",
    "                        jmean, # Vertical mean *(in degrees)*\n",
    "                        sigma_i, # Horizontal width *(in degrees)*\n",
    "                        sigma_j, # Vertical width *(in degrees)*\n",
    "                        freq, # Frequency\n",
    "                        theta, # Angle\n",
    "                        rot_theta, # Rotation of the domain??\n",
    "                        sigma_theta, # Width of the angle?? Rotation of the domain??\n",
    "                        fs, # Sampling frequency\n",
    "                        ):\n",
    "    \"\"\"\n",
    "    Creates a rotated Gabor filter with the input parameters.\n",
    "    \"\"\"\n",
    "    Nrows, Ncols, imean, jmean, sigma_i, sigma_j, freq, theta, rot_theta, sigma_theta, fs = cast_all(Nrows, Ncols, imean, jmean, sigma_i, sigma_j, freq, theta, rot_theta, sigma_theta, fs)\n",
    "    \n",
    "    x_max = Nrows/fs\n",
    "    int_x = Ncols/fs\n",
    "    int_y = Nrows/fs\n",
    "\n",
    "    Nrows, Ncols = cast_all(Nrows, Ncols, dtype=tf.int32)\n",
    "    fot_x = tf.linspace(0.0, int_x, Nrows+1)[:-1]\n",
    "    fot_y = tf.linspace(0.0, int_y, Ncols+1)[:-1]\n",
    "    x, y = tf.meshgrid(fot_x, fot_y, indexing='xy')\n",
    "\n",
    "    x_r = tf.cos(rot_theta) * (x - imean) - tf.sin(rot_theta) * (y - jmean)\n",
    "    y_r = tf.sin(rot_theta) * (x - imean) + tf.cos(rot_theta) * (y - jmean)\n",
    "\n",
    "    return gabor_2d_tf(x_r, y_r, imean = imean, jmean = jmean, sigma_i = sigma_i, sigma_j = sigma_j, freq = freq, theta = theta, sigma_theta = sigma_theta)"
   ]
  },
  {
   "cell_type": "code",
   "execution_count": null,
   "metadata": {},
   "outputs": [
    {
     "name": "stderr",
     "output_type": "stream",
     "text": [
      "2022-09-05 12:12:09.647925: W tensorflow/core/platform/profile_utils/cpu_utils.cc:128] Failed to get CPU frequency: 0 Hz\n",
      "2022-09-05 12:12:09.651383: I tensorflow/core/grappler/optimizers/custom_graph_optimizer_registry.cc:113] Plugin optimizer for device_type GPU is enabled.\n"
     ]
    },
    {
     "data": {
      "image/png": "[encoded data removed]",
      "text/plain": [
       "<Figure size 432x288 with 1 Axes>"
      ]
     },
     "metadata": {
      "needs_background": "light"
     },
     "output_type": "display_data"
    }
   ],
   "source": [
    "gabor = create_gabor_rot_tf(Nrows=20, Ncols=20, imean=0.5, jmean=0.5, sigma_i=0.1, sigma_j=0.1, freq=10, theta=0, rot_theta=0, sigma_theta=0, fs=20)\n",
    "plt.imshow(gabor)\n",
    "plt.show()"
   ]
  },
  {
   "cell_type": "markdown",
   "metadata": {},
   "source": [
    "## Creating a set of Gabor filters\n",
    "\n",
    "> It can be a little bit tricky to translate plain Python `for` loops into `tf.function`."
   ]
  },
  {
   "cell_type": "markdown",
   "metadata": {},
   "source": [
    "In plain Python, if we wanted to create a set of filters we could initialize an empty array or list and fill it with the different filters generated inside a `for` loop, but we can't do that inside a `tf.function` because `Tensorflow` tries to build the computational graph and starts to nest graphs inside graphs and the performance is terrible. Luckily for us, they implement a `tf.TensorArray` that can be used inside a `tf.function` to this effect."
   ]
  },
  {
   "cell_type": "code",
   "execution_count": null,
   "metadata": {},
   "outputs": [],
   "source": [
    "#| export\n",
    "@tf.function\n",
    "def create_multiple_different_rot_gabor_tf(n_gabors, # Number of Gabor filters we want to create.\n",
    "                                           Nrows, # Number of horizontal pixels.\n",
    "                                           Ncols, # Number of vertical pixels.\n",
    "                                           imean, # Horizontal mean *(in degrees)*.\n",
    "                                           jmean, # Vertical mean *(in degrees)*.\n",
    "                                           sigma_i: list, # Horizontal width *(in degrees)*.\n",
    "                                           sigma_j: list, # Vertical width *(in degrees)*.\n",
    "                                           freq: list, # Frequency.\n",
    "                                           theta: list, # Angle.\n",
    "                                           rot_theta: list, # Rotation of the domain??\n",
    "                                           sigma_theta: list, # Width of the angle?? Rotation of the domain??\n",
    "                                           fs, # Sampling frequency.\n",
    "                                           ):\n",
    "    \"\"\"\n",
    "    Creates a set of Gabor filters.\n",
    "    \"\"\"\n",
    "    Nrows, Ncols, imean, jmean, sigma_i, sigma_j, freq, theta, rot_theta, sigma_theta, fs = cast_all(Nrows, Ncols, imean, jmean, sigma_i, sigma_j, freq, theta, rot_theta, sigma_theta, fs)\n",
    "    gabors = tf.TensorArray(dtype = tf.float32, size = n_gabors)\n",
    "\n",
    "    for n in tf.range(start = 0, limit = n_gabors, dtype = tf.int32):\n",
    "        gabors = gabors.write(n, create_gabor_rot_tf(Nrows, Ncols, imean, jmean, tf.gather(sigma_i, n), tf.gather(sigma_j, n), tf.gather(freq, n), tf.gather(theta, n), \n",
    "                                                     tf.gather(rot_theta, n), tf.gather(sigma_theta, n), fs))\n",
    "\n",
    "    gabors = gabors.stack()\n",
    "    # gabors = tf.expand_dims(gabors, axis = -1)\n",
    "    # gabors = tf.transpose(gabors, perm = [1,2,3,0])\n",
    "    return gabors"
   ]
  },
  {
   "cell_type": "code",
   "execution_count": null,
   "metadata": {},
   "outputs": [
    {
     "name": "stderr",
     "output_type": "stream",
     "text": [
      "2022-09-05 12:12:09.987560: I tensorflow/core/grappler/optimizers/custom_graph_optimizer_registry.cc:113] Plugin optimizer for device_type GPU is enabled.\n"
     ]
    },
    {
     "data": {
      "text/plain": [
       "TensorShape([4, 20, 20])"
      ]
     },
     "execution_count": null,
     "metadata": {},
     "output_type": "execute_result"
    }
   ],
   "source": [
    "n_gabors = 4\n",
    "gabors = create_multiple_different_rot_gabor_tf(n_gabors=n_gabors, Nrows=20, Ncols=20, imean=0.5, jmean=0.5, sigma_i=[0.1]*n_gabors, sigma_j=[0.1]*n_gabors, freq=[10]*n_gabors, \n",
    "                                                theta=[0]*n_gabors, rot_theta=[0]*n_gabors, sigma_theta=[0]*n_gabors, fs=20)\n",
    "gabors.shape"
   ]
  },
  {
   "cell_type": "code",
   "execution_count": null,
   "metadata": {},
   "outputs": [
    {
     "data": {
      "image/png": "[encoded data removed]",
      "text/plain": [
       "<Figure size 432x288 with 4 Axes>"
      ]
     },
     "metadata": {
      "needs_background": "light"
     },
     "output_type": "display_data"
    }
   ],
   "source": [
    "fig, axes = plt.subplots(nrows=2, ncols=2)\n",
    "for gabor_filter, ax in zip(gabors, axes.ravel()):\n",
    "    ax.imshow(gabor_filter)\n",
    "plt.show()"
   ]
  },
  {
   "cell_type": "markdown",
   "metadata": {},
   "source": [
    "We can, as well, change the parameters of the Gabor filters independently:"
   ]
  },
  {
   "cell_type": "code",
   "execution_count": null,
   "metadata": {},
   "outputs": [
    {
     "name": "stderr",
     "output_type": "stream",
     "text": [
      "2022-09-05 12:12:10.600241: I tensorflow/core/grappler/optimizers/custom_graph_optimizer_registry.cc:113] Plugin optimizer for device_type GPU is enabled.\n"
     ]
    },
    {
     "data": {
      "text/plain": [
       "TensorShape([4, 20, 20])"
      ]
     },
     "execution_count": null,
     "metadata": {},
     "output_type": "execute_result"
    }
   ],
   "source": [
    "n_gabors = 4\n",
    "sigma_i = [0.1, 0.2, 0.3, 0.4]\n",
    "sigma_j = [0.1, 0.2, 0.3, 0.4]\n",
    "freq = [10, 20, 30, 40]\n",
    "theta = [0, 45, 90, 135]\n",
    "rot_theta = [0, 45, 90, 135]\n",
    "sigma_theta = [0, 45, 90, 135]\n",
    "gabors = create_multiple_different_rot_gabor_tf(n_gabors=n_gabors, Nrows=20, Ncols=20, imean=0.5, jmean=0.5, sigma_i=sigma_i, sigma_j=sigma_j, freq=freq, \n",
    "                                                theta=theta, rot_theta=rot_theta, sigma_theta=sigma_theta, fs=20)\n",
    "gabors.shape"
   ]
  },
  {
   "cell_type": "code",
   "execution_count": null,
   "metadata": {},
   "outputs": [
    {
     "data": {
      "image/png": "[encoded data removed]",
      "text/plain": [
       "<Figure size 432x288 with 4 Axes>"
      ]
     },
     "metadata": {
      "needs_background": "light"
     },
     "output_type": "display_data"
    }
   ],
   "source": [
    "fig, axes = plt.subplots(nrows=2, ncols=2)\n",
    "for gabor_filter, ax in zip(gabors, axes.ravel()):\n",
    "    ax.imshow(gabor_filter)\n",
    "plt.show()"
   ]
  },
  {
   "cell_type": "markdown",
   "metadata": {},
   "source": [
    "## Random initialize a set of Gabor filters\n",
    "\n",
    "> Insted of defining ourselves the initial values, we can randomly initialize them. This can speed up our testing."
   ]
  },
  {
   "cell_type": "code",
   "execution_count": null,
   "metadata": {},
   "outputs": [],
   "source": [
    "#| export\n",
    "@tf.function\n",
    "def create_multiple_random_rot_gabor_tf(n_gabors, # Number of Gabor filters we want to create.\n",
    "                                           Nrows, # Number of horizontal pixels.\n",
    "                                           Ncols, # Number of vertical pixels.\n",
    "                                           imean, # Horizontal mean *(in degrees)*.\n",
    "                                           jmean, # Vertical mean *(in degrees)*.\n",
    "                                           sigma_i: list, # Horizontal width *(in degrees)*.\n",
    "                                           sigma_j: list, # Vertical width *(in degrees)*.\n",
    "                                           freq: list, # Frequency.\n",
    "                                           theta: list, # Angle.\n",
    "                                           rot_theta: list, # Rotation of the domain??\n",
    "                                           sigma_theta: list, # Width of the angle?? Rotation of the domain??\n",
    "                                           fs, # Sampling frequency.\n",
    "                                           ):\n",
    "    \"\"\"\n",
    "    Creates a set of Gabor filters.\n",
    "    \"\"\"\n",
    "    sigma_i = np.random.uniform(0, Nrows/fs)\n",
    "    sigma_j = np.random.uniform(0, Ncols/fs)\n",
    "    Nrows, Ncols, imean, jmean, sigma_i, sigma_j, freq, theta, rot_theta, sigma_theta, fs = cast_all(Nrows, Ncols, imean, jmean, sigma_i, sigma_j, freq, theta, rot_theta, sigma_theta, fs)\n",
    "    gabors = tf.TensorArray(dtype = tf.float32, size = n_gabors)\n",
    "\n",
    "    for n in tf.range(start = 0, limit = n_gabors, dtype = tf.int32):\n",
    "        gabors = gabors.write(n, create_gabor_rot_tf(Nrows, Ncols, imean, jmean, tf.gather(sigma_i, n), tf.gather(sigma_j, n), tf.gather(freq, n), tf.gather(theta, n), \n",
    "                                                     tf.gather(rot_theta, n), tf.gather(sigma_theta, n), fs))\n",
    "\n",
    "    gabors = gabors.stack()\n",
    "    # gabors = tf.expand_dims(gabors, axis = -1)\n",
    "    # gabors = tf.transpose(gabors, perm = [1,2,3,0])\n",
    "    return gabors"
   ]
  }
 ],
 "metadata": {
  "kernelspec": {
   "display_name": "Python 3.8.13 ('gpu')",
   "language": "python",
   "name": "python3"
  }
 },
 "nbformat": 4,
 "nbformat_minor": 4
}
