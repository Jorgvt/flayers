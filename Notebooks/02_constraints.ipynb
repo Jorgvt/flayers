{
 "cells": [
  {
   "cell_type": "code",
   "execution_count": null,
   "metadata": {},
   "outputs": [],
   "source": [
    "#| default_exp constraints"
   ]
  },
  {
   "cell_type": "markdown",
   "metadata": {},
   "source": [
    "# Constraints\n",
    "\n",
    "> Avoid errors in calculations."
   ]
  },
  {
   "cell_type": "code",
   "execution_count": null,
   "metadata": {},
   "outputs": [],
   "source": [
    "#| export\n",
    "\n",
    "import tensorflow as tf\n",
    "from tensorflow.keras.constraints import Constraint"
   ]
  },
  {
   "cell_type": "code",
   "execution_count": null,
   "metadata": {},
   "outputs": [],
   "source": [
    "#| export\n",
    "\n",
    "class Positive(Constraint):\n",
    "    \"\"\"Constraint to force positive weights in a layer.\"\"\"\n",
    "\n",
    "    def __call__(self, w):\n",
    "        return w * tf.cast(tf.math.greater_equal(w, 0. + 1e-5), w.dtype)"
   ]
  }
 ],
 "metadata": {
  "kernelspec": {
   "display_name": "Python 3.8.12 ('tf26')",
   "language": "python",
   "name": "python3"
  }
 },
 "nbformat": 4,
 "nbformat_minor": 2
}
