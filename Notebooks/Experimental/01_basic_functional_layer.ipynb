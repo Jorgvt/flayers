{
 "cells": [
  {
   "cell_type": "code",
   "execution_count": null,
   "metadata": {},
   "outputs": [],
   "source": [
    "#| default_exp experimental.layers"
   ]
  },
  {
   "cell_type": "markdown",
   "metadata": {},
   "source": [
    "# Basic functional layers\n",
    "\n",
    "> We'll do an implementation of a base functional layer to be inherited by the other functional layers. Then, we will implement both the gaussian layer and the gabor layer."
   ]
  },
  {
   "cell_type": "code",
   "execution_count": null,
   "metadata": {},
   "outputs": [],
   "source": [
    "#| export\n",
    "\n",
    "import numpy as np\n",
    "import matplotlib.pyplot as plt\n",
    "from einops import rearrange\n",
    "\n",
    "import tensorflow as tf\n",
    "from tensorflow.keras import layers"
   ]
  },
  {
   "cell_type": "markdown",
   "metadata": {},
   "source": [
    "## Base layer\n",
    "\n",
    "The idea we want to implement is simple: every functional layer is going to provide a `generate_kernel()` method that will build the convolution kernel in different ways. We, on our side, will inherit from the base `Conv2D` layer in *Keras* and adjust everything so that the convolution is performed with the generated kernel:"
   ]
  },
  {
   "cell_type": "code",
   "execution_count": null,
   "metadata": {},
   "outputs": [],
   "source": [
    "#| export\n",
    "\n",
    "class FunctionalLayer(layers.Conv2D):\n",
    "    \"\"\"Generic functional layer designed to be used as a base for building new layers through inheritance.\"\"\"\n",
    "\n",
    "    def __init__(self,\n",
    "                 **kwargs, # Keyword arguments to be passed to the base `Conv2D` layer.\n",
    "                 ) -> None:\n",
    "        super(FunctionalLayer, self).__init__(**kwargs)\n",
    "    \n",
    "    def build(self,\n",
    "              input_shape,\n",
    "              ):\n",
    "        if self.use_bias: self.bias = self.add_weight(name=\"bias\",\n",
    "                                                      shape=(self.filters,),\n",
    "                                                      initializer=self.bias_initializer,\n",
    "                                                      regularizer=self.bias_regularizer,\n",
    "                                                      constraint=self.bias_constraint,\n",
    "                                                      trainable=True,\n",
    "                                                      dtype=self.dtype,\n",
    "                                                     )\n",
    "        else:\n",
    "            self.bias = None\n",
    "        self.kernels_depth = input_shape[-1] // self.groups\n",
    "    \n",
    "    @property\n",
    "    def kernel(self):\n",
    "        return self.generate_kernel()\n",
    "    \n",
    "    def generate_kernel(self):\n",
    "        \"\"\"Generates the functional kernel. Should be overrided. Must return them in shape (Kx, Ky, Cin//groups, Cout\"\"\"\n",
    "        raise NotImplementedError(\"Must implement a function to generate the functional kernel.\")\n",
    "    \n",
    "    def show_filters(self,\n",
    "                     show=True, # If we want to execute `plt.show()` or not.\n",
    "                     **kwargs, # Key-word arguments to be pased to `plt.subplots`.\n",
    "                     ):\n",
    "        \"\"\"Prints out the different filters in the kernel.\"\"\"\n",
    "        fig, axes = plt.subplots(self.kernels_depth, self.filters, squeeze=False, **kwargs)\n",
    "        kernel = self.kernel\n",
    "        for i in range(self.kernels_depth):\n",
    "            for j in range(self.filters):\n",
    "                axes[i,j].imshow(kernel[:,:,i,j])\n",
    "                axes[i,j].axis(\"off\")\n",
    "        if show: plt.show()"
   ]
  },
  {
   "cell_type": "markdown",
   "metadata": {},
   "source": [
    "Now that we've layed down the base, we can build the rest of our layers:"
   ]
  },
  {
   "cell_type": "markdown",
   "metadata": {},
   "source": [
    "## Gaussian layer\n",
    "\n",
    "> We will implement a very basic gaussian layer considering only the paramenter $\\sigma$."
   ]
  },
  {
   "cell_type": "code",
   "execution_count": null,
   "metadata": {},
   "outputs": [],
   "source": [
    "#| export\n",
    "\n",
    "class GaussianLayer(FunctionalLayer):\n",
    "    \"\"\"Functional layer with gaussian kernels.\"\"\"\n",
    "\n",
    "    def __init__(self,\n",
    "                 **kwargs,\n",
    "                 ) -> None:\n",
    "        super(GaussianLayer, self).__init__(**kwargs)\n",
    "\n",
    "    def build(self, input_shape):\n",
    "        super(GaussianLayer, self).build(input_shape)\n",
    "        self.sigma = tf.Variable(tf.random.uniform(shape=(self.kernels_depth*self.filters,), minval=0, maxval=self.kernel_size[0]),\n",
    "                                 trainable=True,\n",
    "                                 name=\"sigma\")\n",
    "        self.A = tf.Variable(tf.ones(shape=(self.kernels_depth*self.filters,)), trainable=True, name=\"A\", dtype=tf.float32)\n",
    "        self.xmean = tf.Variable(self.kernel_size[0]/2, trainable=False, name=\"xmean\", dtype=tf.float32)\n",
    "        self.ymean = tf.Variable(self.kernel_size[1]/2, trainable=False, name=\"ymean\", dtype=tf.float32)\n",
    "    \n",
    "    @tf.function\n",
    "    def generate_kernel(self):\n",
    "        \"\"\"Generates a gaussian kernel based on the parameter sigma.\"\"\"\n",
    "        gaussians = tf.TensorArray(dtype=tf.float32, size=self.sigma.shape[0])\n",
    "        x, y = self.generate_dominion()\n",
    "        for n in tf.range(start=0, limit=self.sigma.shape[0], delta=1, dtype=tf.int32):\n",
    "            gaussian = self.gaussian(x, y, self.xmean, self.ymean, tf.gather(self.sigma, n), tf.gather(self.sigma, n), A=tf.gather(self.A, n))\n",
    "            gaussians = gaussians.write(n, gaussian)\n",
    "        gaussians = gaussians.stack()\n",
    "        gaussians = rearrange(gaussians, \"(Cin_groups Cout) Kx Ky -> Kx Ky Cin_groups Cout\", Cin_groups=self.kernels_depth)\n",
    "        return gaussians\n",
    "\n",
    "    @staticmethod\n",
    "    @tf.function\n",
    "    def gaussian(x, # X coordinate.\n",
    "                 y, # Y coordinate\n",
    "                 xmean, # X mean.\n",
    "                 ymean, # Y mean.\n",
    "                 sigmax, # sigma^2 on the X direction.\n",
    "                 sigmay, # sigma^2 on the Y direction.\n",
    "                 A=1, # Amplitude factor of the gaussian.\n",
    "                 normalize_prob=True, # Wether to normalize the integral to 1 or not.\n",
    "                 ) -> float: # Returns the value for the point (x,y)\n",
    "        A_norm = tf.convert_to_tensor((1/(2*np.pi*tf.sqrt(sigmax*sigmay)))) if normalize_prob else 1\n",
    "        return A*A_norm*tf.exp(-(((xmean-x)**2)/(2*sigmax**2))-(((ymean-y)**2)/(2*sigmay**2)))\n",
    "\n",
    "    @tf.function\n",
    "    def generate_dominion(self,\n",
    "                          ): # Returns two tensors, X and Y, to be passed into `gaussian`.\n",
    "        \"\"\"Generates the 2D dominion over which we want to calculate the gaussian.\"\"\"\n",
    "        range_x = tf.range(start=0, limit=self.kernel_size[0], delta=1, dtype=tf.float32)\n",
    "        range_y = tf.range(start=0, limit=self.kernel_size[1], delta=1, dtype=tf.float32)\n",
    "        return tf.meshgrid(range_x, range_y)        "
   ]
  },
  {
   "cell_type": "markdown",
   "metadata": {},
   "source": [
    "Let's instantiate a `GaussianLayer` and explore its parameters:"
   ]
  },
  {
   "cell_type": "code",
   "execution_count": null,
   "metadata": {},
   "outputs": [],
   "source": [
    "l = GaussianLayer(filters=3, kernel_size=11, groups=1)\n",
    "l.build((None, 32, 32, 3))"
   ]
  },
  {
   "cell_type": "code",
   "execution_count": null,
   "metadata": {},
   "outputs": [
    {
     "name": "stdout",
     "output_type": "stream",
     "text": [
      "bias:0\n",
      "(3,)\n",
      "sigma:0\n",
      "(9,)\n",
      "A:0\n",
      "(9,)\n",
      "xmean:0\n",
      "()\n",
      "ymean:0\n",
      "()\n",
      "WARNING:tensorflow:5 out of the last 9 calls to <function GaussianLayer.generate_kernel> triggered tf.function retracing. Tracing is expensive and the excessive number of tracings could be due to (1) creating @tf.function repeatedly in a loop, (2) passing tensors with different shapes, (3) passing Python objects instead of tensors. For (1), please define your @tf.function outside of the loop. For (2), @tf.function has reduce_retracing=True option that can avoid unnecessary retracing. For (3), please refer to https://www.tensorflow.org/guide/function#controlling_retracing and https://www.tensorflow.org/api_docs/python/tf/function for  more details.\n"
     ]
    },
    {
     "name": "stderr",
     "output_type": "stream",
     "text": [
      "2022-11-30 17:02:34.991743: I tensorflow/core/grappler/optimizers/custom_graph_optimizer_registry.cc:113] Plugin optimizer for device_type GPU is enabled.\n"
     ]
    }
   ],
   "source": [
    "for w in l.weights:\n",
    "    print(w.name)\n",
    "    print(w.shape)\n",
    "assert l.bias.shape == tf.TensorShape((3,))\n",
    "assert l.kernel.shape == tf.TensorShape((11,11,3,3))"
   ]
  },
  {
   "cell_type": "markdown",
   "metadata": {},
   "source": [
    "We even get access to the `bias` term without having to take care of it ourselves!"
   ]
  },
  {
   "cell_type": "code",
   "execution_count": null,
   "metadata": {},
   "outputs": [],
   "source": [
    "l = GaussianLayer(filters=3, kernel_size=11, groups=1, use_bias=False)\n",
    "l.build((None, 32, 32, 3))\n",
    "assert l.bias is None"
   ]
  },
  {
   "cell_type": "markdown",
   "metadata": {},
   "source": [
    "And even the groups parameter works as in the base `Conv2D`!"
   ]
  },
  {
   "cell_type": "code",
   "execution_count": null,
   "metadata": {},
   "outputs": [
    {
     "name": "stdout",
     "output_type": "stream",
     "text": [
      "WARNING:tensorflow:6 out of the last 10 calls to <function GaussianLayer.generate_kernel> triggered tf.function retracing. Tracing is expensive and the excessive number of tracings could be due to (1) creating @tf.function repeatedly in a loop, (2) passing tensors with different shapes, (3) passing Python objects instead of tensors. For (1), please define your @tf.function outside of the loop. For (2), @tf.function has reduce_retracing=True option that can avoid unnecessary retracing. For (3), please refer to https://www.tensorflow.org/guide/function#controlling_retracing and https://www.tensorflow.org/api_docs/python/tf/function for  more details.\n"
     ]
    },
    {
     "name": "stderr",
     "output_type": "stream",
     "text": [
      "2022-11-30 17:02:39.754232: I tensorflow/core/grappler/optimizers/custom_graph_optimizer_registry.cc:113] Plugin optimizer for device_type GPU is enabled.\n"
     ]
    }
   ],
   "source": [
    "l = GaussianLayer(filters=3, kernel_size=11, groups=3)\n",
    "l.build((None, 32, 32, 3))\n",
    "assert l.kernel.shape == tf.TensorShape((11,11,1,3))"
   ]
  },
  {
   "cell_type": "markdown",
   "metadata": {},
   "source": [
    "Just for convinience, we added a `.show_filters()` method in `FunctionalLayer` to simplify the kernel plotting:"
   ]
  },
  {
   "cell_type": "code",
   "execution_count": null,
   "metadata": {},
   "outputs": [
    {
     "name": "stderr",
     "output_type": "stream",
     "text": [
      "2022-11-30 17:04:24.836570: I tensorflow/core/grappler/optimizers/custom_graph_optimizer_registry.cc:113] Plugin optimizer for device_type GPU is enabled.\n"
     ]
    },
    {
     "data": {
      "image/png": "[encoded data removed]",
      "text/plain": [
       "<Figure size 432x288 with 12 Axes>"
      ]
     },
     "metadata": {
      "needs_background": "light"
     },
     "output_type": "display_data"
    }
   ],
   "source": [
    "l = GaussianLayer(filters=4, kernel_size=11)\n",
    "l.build((None, 32, 32, 3))\n",
    "l.show_filters()"
   ]
  },
  {
   "cell_type": "markdown",
   "metadata": {},
   "source": [
    "## Gabor Layer\n",
    "\n",
    "> Taking what we learnt implementing the `GaussianLayer`, implementing a Gabor layer won't be much different."
   ]
  },
  {
   "cell_type": "code",
   "execution_count": null,
   "metadata": {},
   "outputs": [],
   "source": [
    "#| export\n",
    "\n",
    "class GaborLayer(FunctionalLayer):\n",
    "    \"\"\"Functional layer with gabor kernels.\"\"\"\n",
    "\n",
    "    def __init__(self,\n",
    "                 **kwargs,\n",
    "                 ) -> None:\n",
    "        super(GaborLayer, self).__init__(**kwargs)\n",
    "\n",
    "    def build(self, input_shape):\n",
    "        super(GaborLayer, self).build(input_shape)\n",
    "        self.fs = tf.Variable(self.kernel_size[0], trainable=False, name=\"fs\", dtype=tf.float32)\n",
    "        self.freq = tf.Variable(tf.random.uniform(shape=(self.kernels_depth*self.filters,), minval=0, maxval=self.fs/2),\n",
    "                                trainable=True,\n",
    "                                name=\"freq\")\n",
    "        self.logsigmax = tf.Variable(tf.random.uniform(shape=(self.kernels_depth*self.filters,), minval=0, maxval=tf.math.log(2/self.freq)),\n",
    "                                  trainable=True,\n",
    "                                  name=\"sigmax\")\n",
    "        self.logsigmay = tf.Variable(tf.random.uniform(shape=(self.kernels_depth*self.filters,), minval=0, maxval=tf.math.log(2/self.freq)),\n",
    "                                  trainable=True,\n",
    "                                  name=\"sigmay\")\n",
    "\n",
    "        self.theta = tf.Variable(tf.random.uniform(shape=(self.kernels_depth*self.filters,), minval=0, maxval=self.kernel_size[0]),\n",
    "                                 trainable=True,\n",
    "                                 name=\"theta\")\n",
    "        self.sigma_theta = tf.Variable(tf.random.uniform(shape=(self.kernels_depth*self.filters,), minval=0, maxval=self.kernel_size[0]),\n",
    "                                       trainable=True,\n",
    "                                       name=\"sigma_theta\")\n",
    "        self.rot_theta = tf.Variable(tf.random.uniform(shape=(self.kernels_depth*self.filters,), minval=0, maxval=self.kernel_size[0]),\n",
    "                                     trainable=True,\n",
    "                                     name=\"rot_theta\")\n",
    "        self.A = tf.Variable(tf.ones(shape=(self.kernels_depth*self.filters,)), trainable=True, name=\"A\", dtype=tf.float32)\n",
    "        self.xmean = tf.Variable(0.5, trainable=False, name=\"xmean\", dtype=tf.float32)\n",
    "        self.ymean = tf.Variable(0.5, trainable=False, name=\"ymean\", dtype=tf.float32)\n",
    "    \n",
    "    @property\n",
    "    def sigmax(self):\n",
    "        return tf.math.exp(self.logsigmax)\n",
    "\n",
    "    @property\n",
    "    def sigmay(self):\n",
    "        return tf.math.exp(self.logsigmay)\n",
    "\n",
    "    @tf.function\n",
    "    def generate_kernel(self):\n",
    "        \"\"\"Generates a gabor kernel based on the parameter sigma.\"\"\"\n",
    "        gabors = tf.TensorArray(dtype=tf.float32, size=self.logsigmax.shape[0])\n",
    "        for n in tf.range(start=0, limit=self.logsigmax.shape[0], delta=1, dtype=tf.int32):\n",
    "            gabor = self.gabor(self.kernel_size, \n",
    "                               self.xmean, self.ymean, \n",
    "                               tf.gather(self.sigmax, n), tf.gather(self.sigmay, n), \n",
    "                               tf.gather(self.freq, n),\n",
    "                               tf.gather(self.theta, n), tf.gather(self.sigma_theta, n), tf.gather(self.rot_theta, n),\n",
    "                               fs=self.fs,\n",
    "                               A=tf.gather(self.A, n))\n",
    "            gabors = gabors.write(n, gabor)\n",
    "        gabors = gabors.stack()\n",
    "        gabors = rearrange(gabors, \"(Cin_groups Cout) Kx Ky -> Kx Ky Cin_groups Cout\", Cin_groups=self.kernels_depth)\n",
    "        return gabors\n",
    "\n",
    "    @staticmethod\n",
    "    @tf.function\n",
    "    def gabor(kernel_size, xmean, ymean, sigmax, sigmay, freq, theta, sigma_theta, rot_theta, fs, A=1, normalize_prob=True):\n",
    "        Nrows, Ncols = kernel_size\n",
    "        \n",
    "        int_x = Ncols/fs\n",
    "        int_y = Nrows/fs\n",
    "\n",
    "        fot_x = tf.linspace(0.0, int_x, Nrows+1)[:-1]\n",
    "        fot_y = tf.linspace(0.0, int_y, Ncols+1)[:-1]\n",
    "        x, y = tf.meshgrid(fot_x, fot_y, indexing='xy')\n",
    "\n",
    "        x_r = tf.cos(rot_theta) * (x - xmean) - tf.sin(rot_theta) * (y - ymean)\n",
    "        y_r = tf.sin(rot_theta) * (x - xmean) + tf.cos(rot_theta) * (y - ymean)\n",
    "        return GaborLayer._gabor(x_r, y_r, xmean=xmean, ymean=ymean, sigmax=sigmax, sigmay=sigmay, freq=freq, theta=theta, sigma_theta=sigma_theta, A=A, normalize_prob=normalize_prob)\n",
    "\n",
    "    @staticmethod\n",
    "    @tf.function\n",
    "    def _gabor(x, # X coordinate.\n",
    "              y, # Y coordinate\n",
    "              xmean, # X mean.\n",
    "              ymean, # Y mean.\n",
    "              sigmax, # sigma^2 on the X direction.\n",
    "              sigmay, # sigma^2 on the Y direction.\n",
    "              freq, # Frequency of the sinusoid.\n",
    "              theta, # Orientation of the sinusoid.\n",
    "              sigma_theta, # Orientation of the ??.\n",
    "            #   rot_theta, # Rotation of the domain.\n",
    "              A=1, # Amplitude factor.\n",
    "              normalize_prob=True, # Wether to normalize the integral to 1 or not.\n",
    "              ) -> float: # Returns the value for the point (x,y)\n",
    "        sigma_vector = tf.convert_to_tensor([sigmax, sigmay])\n",
    "        cov_matrix = tf.linalg.diag(sigma_vector)**2\n",
    "        det_cov_matrix = tf.linalg.det(cov_matrix)\n",
    "        A_norm = tf.convert_to_tensor((1/(2*np.pi*tf.sqrt(det_cov_matrix)))) if normalize_prob else 1\n",
    "\n",
    "        rotation_matrix = tf.convert_to_tensor([[tf.cos(sigma_theta), -tf.sin(sigma_theta)],\n",
    "                                                [tf.sin(sigma_theta), tf.cos(sigma_theta)]])\n",
    "        rotated_covariance = rotation_matrix @ tf.linalg.inv(cov_matrix) @ tf.transpose(rotation_matrix)\n",
    "\n",
    "\n",
    "        x_r_1 = rotated_covariance[0,0] * x + rotated_covariance[0,1] * y\n",
    "        y_r_1 = rotated_covariance[1,0] * x + rotated_covariance[1,1] * y\n",
    "\n",
    "        distance = x * x_r_1 + y * y_r_1\n",
    "\n",
    "        gabor = A_norm * tf.exp(-distance/2) * tf.cos(2*np.pi*freq*(x*tf.cos(theta)+y*tf.sin(theta)))\n",
    "\n",
    "        return A*gabor\n",
    "\n",
    "    @tf.function\n",
    "    def generate_dominion(self,\n",
    "                          ): # Returns two tensors, X and Y, to be passed into `gabor`.\n",
    "        \"\"\"Generates the 2D dominion over which we want to calculate the gabor.\"\"\"\n",
    "        # range_x = tf.range(start=0, limit=self.kernel_size[0], delta=1, dtype=tf.float32)\n",
    "        # range_y = tf.range(start=0, limit=self.kernel_size[1], delta=1, dtype=tf.float32)\n",
    "        range_x = tf.linspace(start=0.0, stop=self.kernel_size[0]/self.fs, num=self.kernel_size[0]+1)[:-1]\n",
    "        range_y = tf.linspace(start=0.0, stop=self.kernel_size[1]/self.fs, num=self.kernel_size[1]+1)[:-1]\n",
    "        return tf.meshgrid(range_x, range_y)        "
   ]
  },
  {
   "cell_type": "markdown",
   "metadata": {},
   "source": [
    "We see that it behaves exactly the same as `GaussianLayer` but with a different parametric form for the convolution kernels:"
   ]
  },
  {
   "cell_type": "code",
   "execution_count": null,
   "metadata": {},
   "outputs": [],
   "source": [
    "l = GaborLayer(filters=3, kernel_size=11, groups=1, use_bias=False)\n",
    "l.build((None, 32, 32, 3))\n",
    "assert l.bias is None"
   ]
  },
  {
   "cell_type": "code",
   "execution_count": null,
   "metadata": {},
   "outputs": [
    {
     "name": "stderr",
     "output_type": "stream",
     "text": [
      "2022-11-30 18:17:04.057751: I tensorflow/core/grappler/optimizers/custom_graph_optimizer_registry.cc:113] Plugin optimizer for device_type GPU is enabled.\n"
     ]
    }
   ],
   "source": [
    "l = GaborLayer(filters=3, kernel_size=11, groups=3)\n",
    "l.build((None, 32, 32, 3))\n",
    "assert l.kernel.shape == tf.TensorShape((11,11,1,3))"
   ]
  },
  {
   "cell_type": "code",
   "execution_count": null,
   "metadata": {},
   "outputs": [
    {
     "name": "stderr",
     "output_type": "stream",
     "text": [
      "2022-11-30 18:17:06.881571: I tensorflow/core/grappler/optimizers/custom_graph_optimizer_registry.cc:113] Plugin optimizer for device_type GPU is enabled.\n"
     ]
    },
    {
     "data": {
      "image/png": "[encoded data removed]",
      "text/plain": [
       "<Figure size 432x288 with 12 Axes>"
      ]
     },
     "metadata": {
      "needs_background": "light"
     },
     "output_type": "display_data"
    }
   ],
   "source": [
    "l = GaborLayer(filters=4, kernel_size=11)\n",
    "l.build((None, 32, 32, 3))\n",
    "l.show_filters()"
   ]
  },
  {
   "cell_type": "markdown",
   "metadata": {},
   "source": [
    "### Pre-initialized Gabor\n",
    "\n",
    "> In some scenarios we may want to pre-initialize our filters with some specific values."
   ]
  },
  {
   "cell_type": "code",
   "execution_count": null,
   "metadata": {},
   "outputs": [],
   "source": [
    "#| export\n",
    "\n",
    "class PreInitGaborLayer(GaborLayer):\n",
    "    \"\"\"Pre-initialized `GaborLayer`.\"\"\"\n",
    "\n",
    "    def __init__(self,\n",
    "                 xmean,\n",
    "                 ymean,\n",
    "                 sigmax,\n",
    "                 sigmay,\n",
    "                 theta,\n",
    "                 sigma_theta,\n",
    "                 rot_theta,\n",
    "                 freq,\n",
    "                 fs,\n",
    "                 **kwargs,\n",
    "                 ):\n",
    "        super(PreInitGaborLayer, self).__init__(**kwargs)\n",
    "        self.xmean = xmean\n",
    "        self.ymean = ymean\n",
    "        self.logsigmax = tf.math.log(sigmax)\n",
    "        self.logsigmay = tf.math.log(sigmay)\n",
    "        self.theta = theta\n",
    "        self.sigma_theta = sigma_theta\n",
    "        self.rot_theta = rot_theta\n",
    "        self.freq = freq\n",
    "        self.fs = fs    \n",
    "\n",
    "    def build(self,\n",
    "              input_shape,\n",
    "              ):\n",
    "        super(GaborLayer, self).build(input_shape)\n",
    "        self.xmean = tf.Variable(self.xmean, trainable=False, dtype=tf.float32, name=\"xmean\")\n",
    "        self.ymean = tf.Variable(self.ymean, trainable=False, dtype=tf.float32, name=\"ymean\")\n",
    "        self.logsigmax = tf.Variable(self.logsigmax, trainable=True, dtype=tf.float32, name=\"logsigmax\")\n",
    "        self.logsigmay = tf.Variable(self.logsigmay, trainable=True, dtype=tf.float32, name=\"logsigmay\")\n",
    "        self.theta = tf.Variable(self.theta, trainable=True, dtype=tf.float32, name=\"theta\")\n",
    "        self.sigma_theta = tf.Variable(self.sigma_theta, trainable=True, dtype=tf.float32, name=\"sigma_theta\")\n",
    "        self.rot_theta = tf.Variable(self.rot_theta, trainable=True, dtype=tf.float32, name=\"rot_theta\")\n",
    "        self.freq = tf.Variable(self.freq, trainable=True, dtype=tf.float32, name=\"freq\")\n",
    "        self.fs = tf.Variable(self.fs, trainable=True, dtype=tf.float32, name=\"fs\")\n",
    "        self.A = tf.Variable(tf.ones(shape=(self.kernels_depth*self.filters,)), trainable=True, name=\"A\", dtype=tf.float32)"
   ]
  },
  {
   "cell_type": "code",
   "execution_count": null,
   "metadata": {},
   "outputs": [
    {
     "name": "stderr",
     "output_type": "stream",
     "text": [
      "2022-11-30 18:19:58.371234: I tensorflow/core/grappler/optimizers/custom_graph_optimizer_registry.cc:113] Plugin optimizer for device_type GPU is enabled.\n"
     ]
    },
    {
     "data": {
      "image/png": "[encoded data removed]",
      "text/plain": [
       "<Figure size 432x288 with 12 Axes>"
      ]
     },
     "metadata": {
      "needs_background": "light"
     },
     "output_type": "display_data"
    }
   ],
   "source": [
    "kernel_size = 20\n",
    "filters=4\n",
    "xmean, ymean = 0.5, 0.5\n",
    "sigmax, sigmay = [0.1, 0.2, 0.3, 0.4]*3, [0.1, 0.2, 0.3, 0.4]*3\n",
    "theta = [0, 45, 90, 135]*3\n",
    "sigma_theta = [0, 45, 90, 135]*3\n",
    "rot_theta = [0, 45, 90, 135]*3\n",
    "# rot_theta = [0, 0, 0, 0]*3\n",
    "freq = [10, 20, 30, 40]*3\n",
    "fs = 20\n",
    "\n",
    "l = PreInitGaborLayer(xmean=xmean,\n",
    "                      ymean=ymean,\n",
    "                      sigmax=sigmax,\n",
    "                      sigmay=sigmay,\n",
    "                      theta=theta,\n",
    "                      sigma_theta=sigma_theta,\n",
    "                      rot_theta=rot_theta,\n",
    "                      freq=freq,\n",
    "                      fs=fs,\n",
    "                      filters=4,\n",
    "                      kernel_size=kernel_size)\n",
    "l.build((None, 32, 32, 3))\n",
    "l.show_filters()"
   ]
  },
  {
   "cell_type": "code",
   "execution_count": null,
   "metadata": {},
   "outputs": [
    {
     "name": "stderr",
     "output_type": "stream",
     "text": [
      "2022-11-30 18:20:27.990715: I tensorflow/core/grappler/optimizers/custom_graph_optimizer_registry.cc:113] Plugin optimizer for device_type GPU is enabled.\n"
     ]
    },
    {
     "name": "stdout",
     "output_type": "stream",
     "text": [
      "WARNING:tensorflow:5 out of the last 5 calls to <function GaborLayer.generate_kernel> triggered tf.function retracing. Tracing is expensive and the excessive number of tracings could be due to (1) creating @tf.function repeatedly in a loop, (2) passing tensors with different shapes, (3) passing Python objects instead of tensors. For (1), please define your @tf.function outside of the loop. For (2), @tf.function has reduce_retracing=True option that can avoid unnecessary retracing. For (3), please refer to https://www.tensorflow.org/guide/function#controlling_retracing and https://www.tensorflow.org/api_docs/python/tf/function for  more details.\n"
     ]
    },
    {
     "data": {
      "image/png": "[encoded data removed]",
      "text/plain": [
       "<Figure size 432x288 with 12 Axes>"
      ]
     },
     "metadata": {
      "needs_background": "light"
     },
     "output_type": "display_data"
    }
   ],
   "source": [
    "kernel_size = 20\n",
    "filters=4\n",
    "xmean, ymean = 0.5, 0.5\n",
    "sigmax, sigmay = [0.1, 0.2, 0.3, 0.4]*3, [0.4, 0.3, 0.2, 0.1]*3\n",
    "theta = [0, 45, 90, 135]*3\n",
    "sigma_theta = [0, 45, 90, 135]*3\n",
    "rot_theta = [0, 45, 90, 135]*3\n",
    "# rot_theta = [0, 0, 0, 0]*3\n",
    "freq = [10, 20, 30, 40]*3\n",
    "fs = 20\n",
    "\n",
    "l = PreInitGaborLayer(xmean=xmean,\n",
    "                      ymean=ymean,\n",
    "                      sigmax=sigmax,\n",
    "                      sigmay=sigmay,\n",
    "                      theta=theta,\n",
    "                      sigma_theta=sigma_theta,\n",
    "                      rot_theta=rot_theta,\n",
    "                      freq=freq,\n",
    "                      fs=fs,\n",
    "                      filters=4,\n",
    "                      kernel_size=kernel_size)\n",
    "l.build((None, 32, 32, 3))\n",
    "l.show_filters()"
   ]
  }
 ],
 "metadata": {
  "kernelspec": {
   "display_name": "Python 3.8.13 ('gpu')",
   "language": "python",
   "name": "python3"
  }
 },
 "nbformat": 4,
 "nbformat_minor": 2
}
