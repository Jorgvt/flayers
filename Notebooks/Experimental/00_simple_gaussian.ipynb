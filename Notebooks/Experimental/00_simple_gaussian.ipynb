{
 "cells": [
  {
   "cell_type": "code",
   "execution_count": 5,
   "metadata": {},
   "outputs": [],
   "source": [
    "#| default_exp experimental.gaussian"
   ]
  },
  {
   "cell_type": "markdown",
   "metadata": {},
   "source": [
    "# Simple Gaussian\n",
    "\n",
    "> Implement a very simple gaussian without rotations of domain.\n",
    "\n",
    "We're finding some struggle when working with full complex gaussians and gabors, specially in the domain rotation, so we're going to try very simple gaussians that don't use matrix inversions:"
   ]
  },
  {
   "cell_type": "code",
   "execution_count": 6,
   "metadata": {},
   "outputs": [
    {
     "name": "stdout",
     "output_type": "stream",
     "text": [
      "The autoreload extension is already loaded. To reload it, use:\n",
      "  %reload_ext autoreload\n"
     ]
    }
   ],
   "source": [
    "%load_ext autoreload\n",
    "%autoreload 2"
   ]
  },
  {
   "cell_type": "code",
   "execution_count": 7,
   "metadata": {},
   "outputs": [],
   "source": [
    "#| export\n",
    "import numpy as np\n",
    "import tensorflow as tf\n",
    "from tensorflow.keras import layers\n",
    "from einops import rearrange, repeat, reduce"
   ]
  },
  {
   "cell_type": "code",
   "execution_count": 8,
   "metadata": {},
   "outputs": [],
   "source": [
    "#| hide\n",
    "import os; os.environ[\"CUDA_VISIBLE_DEVICES\"]=\"3\"\n",
    "import matplotlib.pyplot as plt"
   ]
  },
  {
   "cell_type": "markdown",
   "metadata": {},
   "source": [
    "## Base formula\n",
    "\n",
    "Following [Wikipedia](https://en.wikipedia.org/wiki/Gaussian_function#Two-dimensional_Gaussian_function), a two dimensional elliptical Gaussian is expressed as:\n",
    "\n",
    "$$\n",
    "f(x,y) = A e^{-(a(x-x_0)^2 + 2b(x-x_0)(y-y_0) + c(y-y_0)^2)}\n",
    "$$\n",
    "\n",
    "where the matrix \n",
    "\\begin{bmatrix}\n",
    "a & b \\\\\n",
    "b & c\n",
    "\\end{bmatrix}\n",
    "\n",
    "must be positive-definite, meaning that $ac - b^2 > 0$.\n",
    "\n",
    "**Parameters**:\n",
    "- $A$: height of the peak.\n",
    "- $x_0$ and $y_0$ represent the center of the gaussian.\n",
    "- $a = \\frac{cos^2\\theta}{2\\sigma_x^2}$ + \\frac{cos^2\\theta}{2\\sigma_x^2}$"
   ]
  },
  {
   "cell_type": "markdown",
   "metadata": {},
   "source": [
    "We can, as well, use this other formulation:\n",
    "\n",
    "$$\n",
    "f(x,y) = Ae^{-(\\frac{(x-x_0)^2}{2\\sigma_x^2} + \\frac{(y-y_0)^2}{2\\sigma_y^2})}\n",
    "$$"
   ]
  },
  {
   "cell_type": "code",
   "execution_count": 9,
   "metadata": {},
   "outputs": [],
   "source": [
    "def simple_gaussian(x, y, x0, y0, sigma_x, sigma_y, A=1):\n",
    "    return A*np.exp(-((x-x0)**2/(2*sigma_x**2)+(y-y0)**2/(2*sigma_y**2)))"
   ]
  },
  {
   "cell_type": "code",
   "execution_count": 10,
   "metadata": {},
   "outputs": [
    {
     "data": {
      "text/plain": [
       "((11, 11), (11, 11))"
      ]
     },
     "execution_count": 10,
     "metadata": {},
     "output_type": "execute_result"
    }
   ],
   "source": [
    "x0, y0 = 5, 5\n",
    "x, y = np.meshgrid(range(11), range(11))\n",
    "\n",
    "x.shape, y.shape"
   ]
  },
  {
   "cell_type": "code",
   "execution_count": 11,
   "metadata": {},
   "outputs": [
    {
     "data": {
      "text/plain": [
       "(11, 11)"
      ]
     },
     "execution_count": 11,
     "metadata": {},
     "output_type": "execute_result"
    }
   ],
   "source": [
    "g = simple_gaussian(x, y, 5, 5, 2, 2)\n",
    "g.shape"
   ]
  },
  {
   "cell_type": "code",
   "execution_count": 12,
   "metadata": {},
   "outputs": [
    {
     "data": {
      "image/png": "[encoded data removed]",
      "text/plain": [
       "<Figure size 640x480 with 1 Axes>"
      ]
     },
     "metadata": {},
     "output_type": "display_data"
    }
   ],
   "source": [
    "plt.imshow(g)\n",
    "plt.show()"
   ]
  },
  {
   "cell_type": "markdown",
   "metadata": {},
   "source": [
    "If we want to put this into a layer:"
   ]
  },
  {
   "cell_type": "code",
   "execution_count": 13,
   "metadata": {},
   "outputs": [
    {
     "data": {
      "image/png": "[encoded data removed]",
      "text/plain": [
       "<Figure size 640x480 with 1 Axes>"
      ]
     },
     "metadata": {},
     "output_type": "display_data"
    }
   ],
   "source": [
    "plt.plot(np.linspace(0.1,10), np.log(np.linspace(0.1,10)))\n",
    "plt.show()"
   ]
  },
  {
   "cell_type": "code",
   "execution_count": 14,
   "metadata": {},
   "outputs": [],
   "source": [
    "#| export\n",
    "class SimpleGaussian(layers.Layer):\n",
    "    \"\"\"Simple gaussian layer.\"\"\"\n",
    "    \n",
    "    def __init__(self,\n",
    "                 filters,\n",
    "                 kernel_size,\n",
    "                 A=1, # Height of the peak of the Gaussian.\n",
    "                 strides=1, # Strides of the convolution.\n",
    "                 padding=\"SAME\", # Can be \"SAME\" or \"VALID\".\n",
    "                 normalize=True, # Wether to normalize the output filters or not.\n",
    "                 **kwargs,\n",
    "                 ):\n",
    "        super(SimpleGaussian, self).__init__(**kwargs)\n",
    "        self.filters = filters\n",
    "        self.kernel_size = kernel_size\n",
    "        self.A = tf.cast(A, dtype=tf.float32)\n",
    "        self.strides = strides\n",
    "        self.padding = padding\n",
    "        self.normalize = normalize\n",
    "\n",
    "    def build(self,\n",
    "              input_shape,\n",
    "              ):\n",
    "        self.x0 = tf.Variable([self.kernel_size//2]*self.filters, trainable=True, name=\"x0\", dtype=tf.float32)\n",
    "        self.y0 = tf.Variable([self.kernel_size//2]*self.filters, trainable=True, name=\"y0\", dtype=tf.float32)\n",
    "        self.logsigma_x = tf.Variable(np.random.uniform(low=-2, high=2, size=self.filters), trainable=True, name=\"logsigma_x\", dtype=tf.float32)\n",
    "        self.logsigma_y = tf.Variable(np.random.uniform(low=-2, high=2, size=self.filters), trainable=True, name=\"logsigma_y\", dtype=tf.float32)\n",
    "\n",
    "    @property\n",
    "    def sigma_x(self):\n",
    "        return tf.math.exp(self.logsigma_x)\n",
    "\n",
    "    @property\n",
    "    def sigma_y(self):\n",
    "        return tf.math.exp(self.logsigma_y)\n",
    "\n",
    "    def call(self,\n",
    "             X,\n",
    "             training=False,\n",
    "             ):\n",
    "        \n",
    "        ## 1. Build the filters (n_filters, kernel_size, kernel_size)\n",
    "        filters = self.build_filters()\n",
    "\n",
    "        ## 2. Reshape so they match what Keras expects (Kx, Ky, Cin, Cout)\n",
    "        filters = repeat(filters, \"n_filters kx ky -> kx ky Cin n_filters\", Cin=X.shape[-1])\n",
    "\n",
    "        return tf.nn.conv2d(X, filters, strides=self.strides, padding=self.padding)\n",
    "    \n",
    "    @tf.function\n",
    "    def _build_filter(self,\n",
    "                      x, # X domain.\n",
    "                      y, # Y domain.\n",
    "                      x0, # Mean of X.\n",
    "                      y0, # Mean of Y.\n",
    "                      sigma_x, # Width of X.\n",
    "                      sigma_y, # Width of Y.\n",
    "                      A, # Height of the peak.\n",
    "                      ):\n",
    "        \"\"\"Builds the gaussian filters using the parameters of the layer.\"\"\"\n",
    "\n",
    "        ## 2. Build the gaussian\n",
    "        if self.normalize: A = 1/(2*3.14*sigma_x*sigma_y)\n",
    "        return A*tf.math.exp(-((x-x0)**2/(2*sigma_x**2)+(y-y0)**2/(2*sigma_y**2)))\n",
    "\n",
    "    @tf.function\n",
    "    def build_filters(self):\n",
    "        ## 1. Build domain\n",
    "        x, y = tf.meshgrid(tf.range(self.kernel_size), tf.range(self.kernel_size))\n",
    "        x, y = tf.cast(x, dtype=tf.float32), tf.cast(y, dtype=tf.float32)\n",
    "        \n",
    "        ## 2. Initialize empty `TensorArray`\n",
    "        filters = tf.TensorArray(dtype = tf.float32, size = self.filters)\n",
    "\n",
    "        for n in tf.range(start=0, limit=self.filters, dtype=tf.int32):\n",
    "            filters = filters.write(n, \n",
    "                                    self._build_filter(x, y, \n",
    "                                                       tf.gather(self.x0, n), tf.gather(self.y0, n), \n",
    "                                                       tf.gather(self.sigma_x, n), tf.gather(self.sigma_y, n),\n",
    "                                                       self.A))\n",
    "\n",
    "        filters = filters.stack()\n",
    "        # Normalize the filters\n",
    "        # if self.normalize: \n",
    "        #     max_per_filter = reduce(filters, \"filters Ncols Nrows -> filters () ()\", \"max\")\n",
    "        #     min_per_filter = reduce(filters, \"filters Ncols Nrows -> filters () ()\", \"min\")\n",
    "        #     filters = (filters-min_per_filter)/(max_per_filter-min_per_filter)\n",
    "        return filters\n",
    "\n",
    "    def show_filters(self,\n",
    "                     show=True, # Wether to do plt.show() or not.\n",
    "                     ):\n",
    "        \"\"\"Plots the filters created with the current parameters.\"\"\"\n",
    "        ncols = int(np.sqrt(self.filters))\n",
    "        nrows = int(self.filters-ncols)\n",
    "        if nrows == 0: nrows == 1\n",
    "        filters = self.build_filters().numpy()\n",
    "        fig, axes = plt.subplots(ncols, nrows)\n",
    "        for filter, ax in zip(filters, axes.ravel()):\n",
    "            ax.imshow(filter)\n",
    "            ax.axis(\"off\")\n",
    "        if show: plt.show()\n",
    "        "
   ]
  },
  {
   "cell_type": "code",
   "execution_count": 15,
   "metadata": {},
   "outputs": [
    {
     "name": "stderr",
     "output_type": "stream",
     "text": [
      "2022-10-09 20:07:45.328185: I tensorflow/core/common_runtime/gpu/gpu_device.cc:1510] Created device /job:localhost/replica:0/task:0/device:GPU:0 with 5435 MB memory:  -> device: 0, name: NVIDIA GeForce GTX TITAN Black, pci bus id: 0000:84:00.0, compute capability: 3.5\n"
     ]
    }
   ],
   "source": [
    "gl = SimpleGaussian(filters=4, kernel_size=11)\n",
    "gl.build(())"
   ]
  },
  {
   "cell_type": "code",
   "execution_count": 16,
   "metadata": {},
   "outputs": [
    {
     "name": "stderr",
     "output_type": "stream",
     "text": [
      "2022-10-09 20:07:46.028716: I tensorflow/compiler/mlir/mlir_graph_optimization_pass.cc:185] None of the MLIR Optimization Passes are enabled (registered 2)\n"
     ]
    },
    {
     "data": {
      "image/png": "[encoded data removed]",
      "text/plain": [
       "<Figure size 640x480 with 4 Axes>"
      ]
     },
     "metadata": {},
     "output_type": "display_data"
    }
   ],
   "source": [
    "gl.show_filters()"
   ]
  },
  {
   "cell_type": "markdown",
   "metadata": {},
   "source": [
    "## Simple model"
   ]
  },
  {
   "cell_type": "code",
   "execution_count": 17,
   "metadata": {},
   "outputs": [],
   "source": [
    "from tensorflow.keras.datasets import cifar10"
   ]
  },
  {
   "cell_type": "code",
   "execution_count": 18,
   "metadata": {},
   "outputs": [
    {
     "data": {
      "text/plain": [
       "((50000, 32, 32, 3), (50000, 1), (10000, 32, 32, 3), (10000, 1))"
      ]
     },
     "execution_count": 18,
     "metadata": {},
     "output_type": "execute_result"
    }
   ],
   "source": [
    "(X_train, Y_train), (X_test, Y_test) = cifar10.load_data()\n",
    "\n",
    "X_train = X_train/255.0\n",
    "X_test = X_test/255.0\n",
    "\n",
    "X_train.shape, Y_train.shape, X_test.shape, Y_test.shape"
   ]
  },
  {
   "cell_type": "code",
   "execution_count": 19,
   "metadata": {},
   "outputs": [
    {
     "name": "stdout",
     "output_type": "stream",
     "text": [
      "Model: \"sequential\"\n",
      "_________________________________________________________________\n",
      "Layer (type)                 Output Shape              Param #   \n",
      "=================================================================\n",
      "simple_gaussian_1 (SimpleGau (None, 32, 32, 4)         16        \n",
      "_________________________________________________________________\n",
      "max_pooling2d (MaxPooling2D) (None, 16, 16, 4)         0         \n",
      "_________________________________________________________________\n",
      "global_average_pooling2d (Gl (None, 4)                 0         \n",
      "_________________________________________________________________\n",
      "dense (Dense)                (None, 10)                50        \n",
      "=================================================================\n",
      "Total params: 66\n",
      "Trainable params: 66\n",
      "Non-trainable params: 0\n",
      "_________________________________________________________________\n"
     ]
    }
   ],
   "source": [
    "model = tf.keras.Sequential([\n",
    "    SimpleGaussian(filters=4, kernel_size=11, input_shape=X_train[0].shape),\n",
    "    layers.MaxPool2D(2),\n",
    "    layers.GlobalAveragePooling2D(),\n",
    "    layers.Dense(10, activation=\"softmax\")\n",
    "])\n",
    "model.compile(optimizer=\"adam\",\n",
    "              loss=\"sparse_categorical_crossentropy\",\n",
    "              metrics=[\"accuracy\"])\n",
    "model.summary()"
   ]
  },
  {
   "cell_type": "code",
   "execution_count": 20,
   "metadata": {},
   "outputs": [
    {
     "name": "stdout",
     "output_type": "stream",
     "text": [
      "Epoch 1/5\n"
     ]
    },
    {
     "name": "stderr",
     "output_type": "stream",
     "text": [
      "2022-10-09 20:07:55.155221: I tensorflow/stream_executor/cuda/cuda_dnn.cc:369] Loaded cuDNN version 8100\n",
      "2022-10-09 20:07:55.618908: I tensorflow/core/platform/default/subprocess.cc:304] Start cannot spawn child process: No such file or directory\n"
     ]
    },
    {
     "name": "stdout",
     "output_type": "stream",
     "text": [
      "313/313 [==============================] - 9s 19ms/step - loss: 2.4712 - accuracy: 0.0926 - val_loss: 2.3077 - val_accuracy: 0.1027\n",
      "Epoch 2/5\n",
      "313/313 [==============================] - 5s 17ms/step - loss: 2.3007 - accuracy: 0.0983 - val_loss: 2.2971 - val_accuracy: 0.1057\n",
      "Epoch 3/5\n",
      "313/313 [==============================] - 5s 17ms/step - loss: 2.2957 - accuracy: 0.1097 - val_loss: 2.2928 - val_accuracy: 0.1087\n",
      "Epoch 4/5\n",
      "313/313 [==============================] - 5s 17ms/step - loss: 2.2918 - accuracy: 0.1157 - val_loss: 2.2889 - val_accuracy: 0.1155\n",
      "Epoch 5/5\n",
      "313/313 [==============================] - 5s 17ms/step - loss: 2.2884 - accuracy: 0.1175 - val_loss: 2.2854 - val_accuracy: 0.1249\n"
     ]
    }
   ],
   "source": [
    "history = model.fit(X_train, Y_train, epochs=5, batch_size=128, validation_split=0.2)"
   ]
  },
  {
   "cell_type": "code",
   "execution_count": 21,
   "metadata": {},
   "outputs": [
    {
     "data": {
      "text/plain": [
       "[<tf.Variable 'simple_gaussian_1/x0:0' shape=(4,) dtype=float32, numpy=array([4.924662 , 4.7507434, 5.2441254, 4.725989 ], dtype=float32)>,\n",
       " <tf.Variable 'simple_gaussian_1/y0:0' shape=(4,) dtype=float32, numpy=array([3.9362297, 5.3472905, 4.764661 , 5.4276137], dtype=float32)>,\n",
       " <tf.Variable 'simple_gaussian_1/logsigma_x:0' shape=(4,) dtype=float32, numpy=array([ 1.4867465, -1.5360956,  1.9485881, -1.6307621], dtype=float32)>,\n",
       " <tf.Variable 'simple_gaussian_1/logsigma_y:0' shape=(4,) dtype=float32, numpy=array([-0.6090842,  1.7246387,  1.6410862,  0.899996 ], dtype=float32)>]"
      ]
     },
     "execution_count": 21,
     "metadata": {},
     "output_type": "execute_result"
    }
   ],
   "source": [
    "model.layers[0].trainable_variables"
   ]
  },
  {
   "cell_type": "markdown",
   "metadata": {},
   "source": [
    "## Putting it into a GDN\n",
    "\n",
    "> Now that we saw that we can optimize the gaussian's parameters, let's put it into a GDN."
   ]
  },
  {
   "cell_type": "code",
   "execution_count": 59,
   "metadata": {},
   "outputs": [],
   "source": [
    "class GDNConv(layers.Layer):\n",
    "    \"\"\"GDN that takes as input a specific layer to use.\"\"\"\n",
    "\n",
    "    def __init__(self,\n",
    "                 layer, # Layer to be used to extract the normalization.\n",
    "                 **kwargs,\n",
    "                 ):\n",
    "        super(GDNConv, self).__init__(**kwargs)\n",
    "        self.layer = layer\n",
    "\n",
    "    def build(self,\n",
    "              input_shape,\n",
    "              ):\n",
    "        self.layer.build(input_shape)\n",
    "        self.alpha = tf.Variable(2, trainable=False, name=\"alpha\", dtype=tf.float32)\n",
    "        self.epsilon = tf.Variable(1/2, trainable=False, name=\"epsilon\", dtype=tf.float32)\n",
    "        # self.beta = tf.Variable(1, trainable=True, name=\"beta\", dtype=tf.float32)\n",
    "\n",
    "    def call(self,\n",
    "             X,\n",
    "             training=False,\n",
    "             ):\n",
    "        norm = tf.math.pow(X, self.alpha)\n",
    "        norm = self.layer(norm, training=training)#+self.beta\n",
    "        norm = tf.math.pow(norm, self.epsilon)\n",
    "        # norm = tf.clip_by_value(norm, clip_value_min=1e-5, clip_value_max=tf.reduce_max(norm))\n",
    "        return X / norm"
   ]
  },
  {
   "cell_type": "code",
   "execution_count": 56,
   "metadata": {},
   "outputs": [
    {
     "name": "stdout",
     "output_type": "stream",
     "text": [
      "Model: \"sequential_5\"\n",
      "_________________________________________________________________\n",
      "Layer (type)                 Output Shape              Param #   \n",
      "=================================================================\n",
      "gdn_conv_4 (GDNConv)         (None, 32, 32, 3)         14        \n",
      "_________________________________________________________________\n",
      "conv2d_4 (Conv2D)            (None, 30, 30, 32)        896       \n",
      "_________________________________________________________________\n",
      "max_pooling2d_5 (MaxPooling2 (None, 15, 15, 32)        0         \n",
      "_________________________________________________________________\n",
      "global_average_pooling2d_5 ( (None, 32)                0         \n",
      "_________________________________________________________________\n",
      "dense_5 (Dense)              (None, 10)                330       \n",
      "=================================================================\n",
      "Total params: 1,240\n",
      "Trainable params: 1,238\n",
      "Non-trainable params: 2\n",
      "_________________________________________________________________\n"
     ]
    }
   ],
   "source": [
    "model = tf.keras.Sequential([\n",
    "    GDNConv(SimpleGaussian(filters=3, kernel_size=11), input_shape=X_train[0].shape),\n",
    "    layers.Conv2D(filters=32, kernel_size=3, activation=\"relu\"),\n",
    "    layers.MaxPool2D(2),\n",
    "    layers.GlobalAveragePooling2D(),\n",
    "    layers.Dense(10, activation=\"softmax\")\n",
    "])\n",
    "model.compile(optimizer=\"adam\",\n",
    "              loss=\"sparse_categorical_crossentropy\",\n",
    "              metrics=[\"accuracy\"])\n",
    "model.summary()"
   ]
  },
  {
   "cell_type": "code",
   "execution_count": 24,
   "metadata": {},
   "outputs": [
    {
     "name": "stdout",
     "output_type": "stream",
     "text": [
      "Model: \"sequential_1\"\n",
      "_________________________________________________________________\n",
      "Layer (type)                 Output Shape              Param #   \n",
      "=================================================================\n",
      "gdn_conv (GDNConv)           (None, 32, 32, 3)         14        \n",
      "_________________________________________________________________\n",
      "conv2d (Conv2D)              (None, 30, 30, 32)        896       \n",
      "_________________________________________________________________\n",
      "max_pooling2d_1 (MaxPooling2 (None, 15, 15, 32)        0         \n",
      "_________________________________________________________________\n",
      "global_average_pooling2d_1 ( (None, 32)                0         \n",
      "_________________________________________________________________\n",
      "dense_1 (Dense)              (None, 10)                330       \n",
      "=================================================================\n",
      "Total params: 1,240\n",
      "Trainable params: 1,226\n",
      "Non-trainable params: 14\n",
      "_________________________________________________________________\n"
     ]
    }
   ],
   "source": [
    "model.layers[0].trainable=False\n",
    "model.summary()"
   ]
  },
  {
   "cell_type": "code",
   "execution_count": 57,
   "metadata": {},
   "outputs": [
    {
     "name": "stdout",
     "output_type": "stream",
     "text": [
      "313/313 [==============================] - 8s 19ms/step - loss: 2.3027 - accuracy: 0.1001 - val_loss: 2.3027 - val_accuracy: 0.0952\n"
     ]
    }
   ],
   "source": [
    "history = model.fit(X_train, Y_train, epochs=1, batch_size=128, validation_split=0.2)"
   ]
  },
  {
   "cell_type": "code",
   "execution_count": 58,
   "metadata": {},
   "outputs": [
    {
     "data": {
      "text/plain": [
       "[<tf.Variable 'gdn_conv_4/simple_gaussian_6/x0:0' shape=(3,) dtype=float32, numpy=array([nan, nan, nan], dtype=float32)>,\n",
       " <tf.Variable 'gdn_conv_4/simple_gaussian_6/y0:0' shape=(3,) dtype=float32, numpy=array([nan, nan, nan], dtype=float32)>,\n",
       " <tf.Variable 'gdn_conv_4/simple_gaussian_6/logsigma_x:0' shape=(3,) dtype=float32, numpy=array([nan, nan, nan], dtype=float32)>,\n",
       " <tf.Variable 'gdn_conv_4/simple_gaussian_6/logsigma_y:0' shape=(3,) dtype=float32, numpy=array([nan, nan, nan], dtype=float32)>,\n",
       " <tf.Variable 'gdn_conv_4/alpha:0' shape=() dtype=float32, numpy=2.0>,\n",
       " <tf.Variable 'gdn_conv_4/epsilon:0' shape=() dtype=float32, numpy=0.5>]"
      ]
     },
     "execution_count": 58,
     "metadata": {},
     "output_type": "execute_result"
    }
   ],
   "source": [
    "model.layers[0].variables"
   ]
  },
  {
   "cell_type": "markdown",
   "metadata": {},
   "source": [
    "## Step by step\n",
    "\n",
    "> Let's see if we can find anything..."
   ]
  },
  {
   "cell_type": "code",
   "execution_count": 60,
   "metadata": {},
   "outputs": [],
   "source": [
    "model = tf.keras.Sequential([\n",
    "    GDNConv(SimpleGaussian(filters=3, kernel_size=11), input_shape=X_train[0].shape),\n",
    "    layers.Conv2D(filters=32, kernel_size=3, activation=\"relu\"),\n",
    "    layers.MaxPool2D(2),\n",
    "    layers.GlobalAveragePooling2D(),\n",
    "    layers.Dense(10, activation=\"softmax\")\n",
    "])\n",
    "model.compile(optimizer=\"adam\",\n",
    "              loss=\"sparse_categorical_crossentropy\",\n",
    "              metrics=[\"accuracy\"])\n",
    "# model.summary()\n",
    "model.build((28,28,3))"
   ]
  },
  {
   "cell_type": "code",
   "execution_count": 88,
   "metadata": {},
   "outputs": [],
   "source": [
    "dst_train = tf.data.Dataset.from_tensor_slices((X_train.astype(np.float32), Y_train))"
   ]
  },
  {
   "cell_type": "code",
   "execution_count": 61,
   "metadata": {},
   "outputs": [],
   "source": [
    "EPOCHS = 5\n",
    "BATCH_SIZE = 128\n",
    "\n",
    "activations = {layer.name:[] for layer in model.layers}\n",
    "\n",
    "for epoch in range(EPOCHS):\n",
    "    for X, Y in dst_train.batch(BATCH_SIZE):\n",
    "        for i, layer in enumerate(model.layers):\n",
    "            if i==0: \n",
    "                output = layer(X, training=True)\n",
    "            else:\n",
    "                output = layer(output, training=True)\n",
    "            activations[layer.name].append(output)\n",
    "        break\n",
    "    break\n"
   ]
  },
  {
   "cell_type": "code",
   "execution_count": 64,
   "metadata": {},
   "outputs": [
    {
     "data": {
      "text/plain": [
       "'gdn_conv_5'"
      ]
     },
     "execution_count": 64,
     "metadata": {},
     "output_type": "execute_result"
    }
   ],
   "source": [
    "gdn_name = list(activations.keys())[0]\n",
    "gdn_name"
   ]
  },
  {
   "cell_type": "markdown",
   "metadata": {},
   "source": [
    "Check the mean and the standard deviation of the activation of the GDN layer:"
   ]
  },
  {
   "cell_type": "code",
   "execution_count": 65,
   "metadata": {},
   "outputs": [
    {
     "data": {
      "text/plain": [
       "(nan, nan)"
      ]
     },
     "execution_count": 65,
     "metadata": {},
     "output_type": "execute_result"
    }
   ],
   "source": [
    "activations[gdn_name][0].numpy().mean(), activations[gdn_name][0].numpy().std()"
   ]
  },
  {
   "cell_type": "markdown",
   "metadata": {},
   "source": [
    "They are `nan`, meaning that at least one element is `nan`."
   ]
  },
  {
   "cell_type": "markdown",
   "metadata": {},
   "source": [
    "Let's see if the `nan` are comming from the gaussian filters:"
   ]
  },
  {
   "cell_type": "code",
   "execution_count": 66,
   "metadata": {},
   "outputs": [
    {
     "data": {
      "text/plain": [
       "0"
      ]
     },
     "execution_count": 66,
     "metadata": {},
     "output_type": "execute_result"
    }
   ],
   "source": [
    "tf.math.is_nan(model.layers[0].layer.build_filters()).numpy().sum()"
   ]
  },
  {
   "cell_type": "markdown",
   "metadata": {},
   "source": [
    "There doesn't seem to be any `nan` in the filters, so they should be appearing after the activation:"
   ]
  },
  {
   "cell_type": "code",
   "execution_count": 69,
   "metadata": {},
   "outputs": [
    {
     "data": {
      "text/plain": [
       "108"
      ]
     },
     "execution_count": 69,
     "metadata": {},
     "output_type": "execute_result"
    }
   ],
   "source": [
    "tf.math.is_nan(activations[gdn_name]).numpy().sum()"
   ]
  },
  {
   "cell_type": "markdown",
   "metadata": {},
   "source": [
    "They are, in fact, present after the activation. Let's try to find the inputs that correspond to this outputs:"
   ]
  },
  {
   "cell_type": "code",
   "execution_count": 70,
   "metadata": {},
   "outputs": [
    {
     "data": {
      "text/plain": [
       "array([0., 0., 0., 0., 0., 0., 0., 0., 0., 0., 0., 0., 0., 0., 0., 0., 0.,\n",
       "       0., 0., 0., 0., 0., 0., 0., 0., 0., 0., 0., 0., 0., 0., 0., 0., 0.,\n",
       "       0., 0., 0., 0., 0., 0., 0., 0., 0., 0., 0., 0., 0., 0., 0., 0., 0.,\n",
       "       0., 0., 0., 0., 0., 0., 0., 0., 0., 0., 0., 0., 0., 0., 0., 0., 0.,\n",
       "       0., 0., 0., 0., 0., 0., 0., 0., 0., 0., 0., 0., 0., 0., 0., 0., 0.,\n",
       "       0., 0., 0., 0., 0., 0., 0., 0., 0., 0., 0., 0., 0., 0., 0., 0., 0.,\n",
       "       0., 0., 0., 0., 0., 0.])"
      ]
     },
     "execution_count": 70,
     "metadata": {},
     "output_type": "execute_result"
    }
   ],
   "source": [
    "nan_mask = tf.math.is_nan(activations[gdn_name]).numpy().squeeze()\n",
    "X.numpy()[nan_mask]"
   ]
  },
  {
   "cell_type": "markdown",
   "metadata": {},
   "source": [
    "They are all 0s. This could mean that, if every pixel that participates in the convolution is 0, the result is going to be 0, and dividing by 0 could result in `nan`. "
   ]
  },
  {
   "cell_type": "code",
   "execution_count": 71,
   "metadata": {},
   "outputs": [
    {
     "data": {
      "text/plain": [
       "1270"
      ]
     },
     "execution_count": 71,
     "metadata": {},
     "output_type": "execute_result"
    }
   ],
   "source": [
    "(X.numpy()==0).sum()"
   ]
  },
  {
   "cell_type": "code",
   "execution_count": 73,
   "metadata": {},
   "outputs": [
    {
     "data": {
      "text/plain": [
       "array([[[[0.32486203, 0.95938575, 0.986067  ],\n",
       "         [0.32354212, 0.99455976, 0.7339644 ],\n",
       "         [0.35746002, 0.8021005 , 0.680817  ],\n",
       "         ...,\n",
       "         [0.39661583, 0.7808594 , 0.5922851 ],\n",
       "         [0.4000493 , 0.76971984, 0.5784924 ],\n",
       "         [0.39535943, 0.7839518 , 0.6644451 ]],\n",
       "\n",
       "        [[0.2884099 , 0.30474618, 0.4155387 ],\n",
       "         [0.        , 0.        , 0.        ],\n",
       "         [0.5262817 , 0.10727825, 0.        ],\n",
       "         ...,\n",
       "         [0.44587988, 0.48746446, 0.31017557],\n",
       "         [0.45228204, 0.47743067, 0.29315236],\n",
       "         [0.444957  , 0.52461636, 0.38046837]],\n",
       "\n",
       "        [[0.36125875, 0.36714813, 0.5940494 ],\n",
       "         [0.5206313 , 0.12500215, 0.        ],\n",
       "         [0.50469726, 0.28820127, 0.1121923 ],\n",
       "         ...,\n",
       "         [0.44908923, 0.47829077, 0.31212565],\n",
       "         [0.4525718 , 0.49748114, 0.32849023],\n",
       "         [0.46237442, 0.4690638 , 0.32801053]],\n",
       "\n",
       "        ...,\n",
       "\n",
       "        [[0.42642906, 0.5655689 , 0.40013632],\n",
       "         [0.45988345, 0.5852939 , 0.13493536],\n",
       "         [0.4504334 , 0.62122166, 0.10572007],\n",
       "         ...,\n",
       "         [0.42628962, 0.47218147, 0.3411404 ],\n",
       "         [0.49718294, 0.20844463, 0.05293528],\n",
       "         [0.46902573, 0.3114541 , 0.27200785]],\n",
       "\n",
       "        [[0.4264811 , 0.5062699 , 0.43475115],\n",
       "         [0.46603125, 0.5078721 , 0.17804535],\n",
       "         [0.4577213 , 0.58185273, 0.12520245],\n",
       "         ...,\n",
       "         [0.42350814, 0.54914516, 0.42043057],\n",
       "         [0.4685383 , 0.43251923, 0.2056661 ],\n",
       "         [0.46545172, 0.46471918, 0.31255966]],\n",
       "\n",
       "        [[0.40439633, 0.6186642 , 0.6096576 ],\n",
       "         [0.42272267, 0.6218468 , 0.45910054],\n",
       "         [0.42723912, 0.6569095 , 0.41501206],\n",
       "         ...,\n",
       "         [0.39907613, 0.7559929 , 0.61970544],\n",
       "         [0.42029524, 0.8560032 , 0.4685023 ],\n",
       "         [0.4234567 , 0.8193166 , 0.5748711 ]]],\n",
       "\n",
       "\n",
       "       [[[0.30032083, 0.71380824, 0.8761899 ],\n",
       "         [0.3187444 , 0.6259729 , 0.6501796 ],\n",
       "         [0.34823304, 0.5932579 , 0.53940517],\n",
       "         ...,\n",
       "         [0.35514772, 0.7272897 , 0.5455012 ],\n",
       "         [0.35278118, 0.77879745, 0.5890474 ],\n",
       "         [0.34700966, 0.7382825 , 0.6927358 ]],\n",
       "\n",
       "        [[0.30140457, 0.5751047 , 0.7152022 ],\n",
       "         [0.32424363, 0.60133326, 0.6319318 ],\n",
       "         [0.34274757, 0.60140365, 0.545314  ],\n",
       "         ...,\n",
       "         [0.35382518, 0.67802274, 0.5394252 ],\n",
       "         [0.35298517, 0.6258359 , 0.4789044 ],\n",
       "         [0.34956816, 0.5837187 , 0.5667061 ]],\n",
       "\n",
       "        [[0.3082705 , 0.53755736, 0.71106756],\n",
       "         [0.32369944, 0.53406394, 0.610309  ],\n",
       "         [0.33886114, 0.5002118 , 0.49615315],\n",
       "         ...,\n",
       "         [0.3528619 , 0.5494524 , 0.4735846 ],\n",
       "         [0.35394666, 0.53232217, 0.45927903],\n",
       "         [0.35352102, 0.5111954 , 0.53705096]],\n",
       "\n",
       "        ...,\n",
       "\n",
       "        [[0.3488233 , 0.55348074, 0.678748  ],\n",
       "         [0.3352407 , 0.5484331 , 0.6058421 ],\n",
       "         [0.3213767 , 0.6104138 , 0.6630021 ],\n",
       "         ...,\n",
       "         [0.3770181 , 0.20198634, 0.30375516],\n",
       "         [0.3593088 , 0.29762626, 0.39691684],\n",
       "         [0.35269105, 0.39544407, 0.6159992 ]],\n",
       "\n",
       "        [[0.37179533, 0.5574402 , 0.5536619 ],\n",
       "         [0.35873362, 0.57922095, 0.50594157],\n",
       "         [0.3475418 , 0.6188655 , 0.5545244 ],\n",
       "         ...,\n",
       "         [0.35608524, 0.53804713, 0.5631473 ],\n",
       "         [0.34814084, 0.60995513, 0.62847704],\n",
       "         [0.34619418, 0.5826168 , 0.7206906 ]],\n",
       "\n",
       "        [[0.38005033, 0.6309158 , 0.61492825],\n",
       "         [0.3708875 , 0.65325373, 0.5554126 ],\n",
       "         [0.36334497, 0.6722252 , 0.6033625 ],\n",
       "         ...,\n",
       "         [0.3480944 , 0.80197483, 0.7355761 ],\n",
       "         [0.34477347, 0.74998266, 0.7216648 ],\n",
       "         [0.34454757, 0.6972899 , 0.8039887 ]]],\n",
       "\n",
       "\n",
       "       [[[0.33753836, 0.65167433, 0.7516829 ],\n",
       "         [0.33685726, 0.64667654, 0.665548  ],\n",
       "         [0.3368677 , 0.6466941 , 0.6629877 ],\n",
       "         ...,\n",
       "         [0.3368677 , 0.64669406, 0.663023  ],\n",
       "         [0.3368677 , 0.64669406, 0.6662987 ],\n",
       "         [0.33752796, 0.64901406, 0.7487141 ]],\n",
       "\n",
       "        [[0.33752796, 0.56597036, 0.6589371 ],\n",
       "         [0.33686763, 0.5655596 , 0.5872256 ],\n",
       "         [0.33686763, 0.5655694 , 0.5846531 ],\n",
       "         ...,\n",
       "         [0.33686763, 0.5655734 , 0.5846687 ],\n",
       "         [0.33686763, 0.5655734 , 0.5875574 ],\n",
       "         [0.33752793, 0.5676024 , 0.66023314]],\n",
       "\n",
       "        [[0.33753315, 0.5300932 , 0.6522785 ],\n",
       "         [0.33686244, 0.52717745, 0.57884455],\n",
       "         [0.3368677 , 0.5271747 , 0.5762444 ],\n",
       "         ...,\n",
       "         [0.33686766, 0.5271972 , 0.5762566 ],\n",
       "         [0.33686766, 0.5271973 , 0.57910377],\n",
       "         [0.33752793, 0.5290887 , 0.65073377]],\n",
       "\n",
       "        ...,\n",
       "\n",
       "        [[0.33151796, 0.5782519 , 0.6451752 ],\n",
       "         [0.32983613, 0.5816403 , 0.58092177],\n",
       "         [0.3284258 , 0.5709877 , 0.5759456 ],\n",
       "         ...,\n",
       "         [0.3119743 , 0.56464046, 0.61108613],\n",
       "         [0.31464618, 0.5493272 , 0.5941314 ],\n",
       "         [0.31527397, 0.53026587, 0.65489364]],\n",
       "\n",
       "        [[0.3314642 , 0.5999401 , 0.65320754],\n",
       "         [0.32929656, 0.5839697 , 0.5695379 ],\n",
       "         [0.33003598, 0.5797971 , 0.5639395 ],\n",
       "         ...,\n",
       "         [0.31782067, 0.5518476 , 0.5626715 ],\n",
       "         [0.31978866, 0.553334  , 0.5679719 ],\n",
       "         [0.32365665, 0.5898118 , 0.6770977 ]],\n",
       "\n",
       "        [[0.33117917, 0.6622312 , 0.7303847 ],\n",
       "         [0.3299499 , 0.6492766 , 0.6326999 ],\n",
       "         [0.32972315, 0.651874  , 0.6368633 ],\n",
       "         ...,\n",
       "         [0.3203149 , 0.7122338 , 0.70380735],\n",
       "         [0.32307056, 0.7058567 , 0.69157046],\n",
       "         [0.32389697, 0.6892407 , 0.7705161 ]]],\n",
       "\n",
       "\n",
       "       ...,\n",
       "\n",
       "\n",
       "       [[[0.33755025, 0.6524246 , 0.75359756],\n",
       "         [0.33728677, 0.6553336 , 0.6679471 ],\n",
       "         [0.336885  , 0.67989105, 0.67334676],\n",
       "         ...,\n",
       "         [0.33687294, 0.6453883 , 0.6626289 ],\n",
       "         [0.33684132, 0.64458656, 0.66313016],\n",
       "         [0.33754858, 0.65169626, 0.7529778 ]],\n",
       "\n",
       "        [[0.33753994, 0.56818545, 0.6615616 ],\n",
       "         [0.3332789 , 0.59614456, 0.5941754 ],\n",
       "         [0.33701304, 0.63992095, 0.61733645],\n",
       "         ...,\n",
       "         [0.33687282, 0.5665938 , 0.5855766 ],\n",
       "         [0.33685726, 0.5655331 , 0.58636665],\n",
       "         [0.33753306, 0.5659861 , 0.6596216 ]],\n",
       "\n",
       "        [[0.33755186, 0.5361083 , 0.663147  ],\n",
       "         [0.33513805, 0.5854767 , 0.6072064 ],\n",
       "         [0.34339985, 0.6049721 , 0.6183257 ],\n",
       "         ...,\n",
       "         [0.3368677 , 0.52825534, 0.5769561 ],\n",
       "         [0.33686244, 0.52892804, 0.5796447 ],\n",
       "         [0.3375331 , 0.5301058 , 0.65263045]],\n",
       "\n",
       "        ...,\n",
       "\n",
       "        [[0.33753315, 0.53010595, 0.65263057],\n",
       "         [0.3368625 , 0.52893865, 0.5796502 ],\n",
       "         [0.3368677 , 0.5282793 , 0.5770776 ],\n",
       "         ...,\n",
       "         [0.37001678, 0.54706687, 0.48864824],\n",
       "         [0.35188648, 0.5885444 , 0.56295115],\n",
       "         [0.34157392, 0.5674439 , 0.6571445 ]],\n",
       "\n",
       "        [[0.33753315, 0.5659861 , 0.6596218 ],\n",
       "         [0.33685726, 0.56553507, 0.58638215],\n",
       "         [0.33687797, 0.5666035 , 0.5859171 ],\n",
       "         ...,\n",
       "         [0.353974  , 0.60927415, 0.5541066 ],\n",
       "         [0.34293377, 0.597466  , 0.5720942 ],\n",
       "         [0.33845904, 0.58730567, 0.6567772 ]],\n",
       "\n",
       "        [[0.3375486 , 0.6516963 , 0.7529781 ],\n",
       "         [0.33684134, 0.6445867 , 0.6631498 ],\n",
       "         [0.3368764 , 0.6453991 , 0.66306114],\n",
       "         ...,\n",
       "         [0.34343544, 0.72891766, 0.6793208 ],\n",
       "         [0.33868596, 0.6819959 , 0.67326486],\n",
       "         [0.33888432, 0.665366  , 0.7546886 ]]],\n",
       "\n",
       "\n",
       "       [[[0.29656625, 0.674019  , 0.8222604 ],\n",
       "         [0.29728633, 0.67100924, 0.72907776],\n",
       "         [0.2966517 , 0.6718606 , 0.72873926],\n",
       "         ...,\n",
       "         [0.3232433 , 0.64305484, 0.6847878 ],\n",
       "         [0.32367554, 0.6437027 , 0.6858828 ],\n",
       "         [0.32367516, 0.6443525 , 0.7710664 ]],\n",
       "\n",
       "        [[0.2970092 , 0.575982  , 0.71404094],\n",
       "         [0.2964095 , 0.57361394, 0.6332179 ],\n",
       "         [0.2970909 , 0.5747146 , 0.6327589 ],\n",
       "         ...,\n",
       "         [0.32593116, 0.56086546, 0.6018382 ],\n",
       "         [0.32635936, 0.5591242 , 0.6051999 ],\n",
       "         [0.32744327, 0.56222045, 0.6770451 ]],\n",
       "\n",
       "        [[0.29566061, 0.5425417 , 0.712016  ],\n",
       "         [0.29641545, 0.5406795 , 0.6315978 ],\n",
       "         [0.2963366 , 0.5419932 , 0.6286104 ],\n",
       "         ...,\n",
       "         [0.3290369 , 0.5281102 , 0.59888285],\n",
       "         [0.32953158, 0.5315959 , 0.6019733 ],\n",
       "         [0.3301361 , 0.5348085 , 0.6761701 ]],\n",
       "\n",
       "        ...,\n",
       "\n",
       "        [[0.31975085, 0.51448464, 0.6604405 ],\n",
       "         [0.32966742, 0.5075069 , 0.57947034],\n",
       "         [0.3379743 , 0.5323923 , 0.6008264 ],\n",
       "         ...,\n",
       "         [0.35747463, 0.5174927 , 0.57588303],\n",
       "         [0.3570723 , 0.5203816 , 0.5931155 ],\n",
       "         [0.3576286 , 0.5278938 , 0.65382564]],\n",
       "\n",
       "        [[0.3186247 , 0.5636693 , 0.6872532 ],\n",
       "         [0.32557672, 0.5563174 , 0.6040474 ],\n",
       "         [0.33170563, 0.57175726, 0.6046269 ],\n",
       "         ...,\n",
       "         [0.3553792 , 0.56327677, 0.5708328 ],\n",
       "         [0.35687932, 0.5691363 , 0.5981976 ],\n",
       "         [0.36437148, 0.54307497, 0.62973684]],\n",
       "\n",
       "        [[0.315949  , 0.64698905, 0.77427584],\n",
       "         [0.3212291 , 0.6440765 , 0.6886574 ],\n",
       "         [0.3284014 , 0.6431159 , 0.68655   ],\n",
       "         ...,\n",
       "         [0.34829298, 0.63738394, 0.64936054],\n",
       "         [0.35135472, 0.6106012 , 0.6519224 ],\n",
       "         [0.35974878, 0.5949174 , 0.7065788 ]]],\n",
       "\n",
       "\n",
       "       [[[0.33755878, 0.66275084, 0.75978506],\n",
       "         [0.33683565, 0.68968433, 0.6731453 ],\n",
       "         [0.33685178, 0.66930723, 0.6675541 ],\n",
       "         ...,\n",
       "         [0.33686772, 0.647783  , 0.6638293 ],\n",
       "         [0.3368677 , 0.6477778 , 0.66709465],\n",
       "         [0.337528  , 0.6501018 , 0.7496077 ]],\n",
       "\n",
       "        [[0.33763257, 0.5882781 , 0.6764593 ],\n",
       "         [0.33668098, 0.5851765 , 0.56948876],\n",
       "         [0.33688173, 0.5910508 , 0.5849522 ],\n",
       "         ...,\n",
       "         [0.33686766, 0.5644858 , 0.5837373 ],\n",
       "         [0.33686763, 0.56447846, 0.5865026 ],\n",
       "         [0.33752796, 0.5665036 , 0.6590414 ]],\n",
       "\n",
       "        [[0.33765477, 0.5613597 , 0.6744497 ],\n",
       "         [0.33659515, 0.5583984 , 0.5637983 ],\n",
       "         [0.33690578, 0.58455694, 0.596017  ],\n",
       "         ...,\n",
       "         [0.33687285, 0.5284646 , 0.5776965 ],\n",
       "         [0.3368676 , 0.5284495 , 0.5801977 ],\n",
       "         [0.33752796, 0.5303453 , 0.65194404]],\n",
       "\n",
       "        ...,\n",
       "\n",
       "        [[0.3379163 , 0.51352525, 0.6834415 ],\n",
       "         [0.3358703 , 0.3844642 , 0.4517527 ],\n",
       "         [0.3370347 , 0.414598  , 0.51382726],\n",
       "         ...,\n",
       "         [0.3366777 , 0.4756012 , 0.54871553],\n",
       "         [0.33690545, 0.5244429 , 0.5806622 ],\n",
       "         [0.3376682 , 0.48864958, 0.66033804]],\n",
       "\n",
       "        [[0.33765694, 0.59043175, 0.7077396 ],\n",
       "         [0.33676392, 0.62118757, 0.6192786 ],\n",
       "         [0.33685562, 0.6167493 , 0.63274103],\n",
       "         ...,\n",
       "         [0.33690855, 0.6161569 , 0.5979851 ],\n",
       "         [0.33680257, 0.61086655, 0.5936846 ],\n",
       "         [0.33767527, 0.60056335, 0.69671655]],\n",
       "\n",
       "        [[0.33763307, 0.63405734, 0.7529271 ],\n",
       "         [0.33684787, 0.67093676, 0.65624845],\n",
       "         [0.3368372 , 0.64667463, 0.644899  ],\n",
       "         ...,\n",
       "         [0.33685726, 0.73646474, 0.68858546],\n",
       "         [0.33683538, 0.72071624, 0.68493056],\n",
       "         [0.33764133, 0.7038027 , 0.7872758 ]]]], dtype=float32)"
      ]
     },
     "execution_count": 73,
     "metadata": {},
     "output_type": "execute_result"
    }
   ],
   "source": [
    "activations[gdn_name][0].numpy()"
   ]
  },
  {
   "cell_type": "markdown",
   "metadata": {},
   "source": [
    "After clipping the result, we are still getting `nan`, so lets inspect the activation of the gaussian layer itself. It wasn't rising any trouble before, but just in case..."
   ]
  },
  {
   "cell_type": "code",
   "execution_count": 84,
   "metadata": {},
   "outputs": [
    {
     "data": {
      "text/plain": [
       "<tf.Variable 'gdn_conv_5/alpha:0' shape=() dtype=float32, numpy=2.0>"
      ]
     },
     "execution_count": 84,
     "metadata": {},
     "output_type": "execute_result"
    }
   ],
   "source": [
    "model.layers[0].alpha"
   ]
  },
  {
   "cell_type": "code",
   "execution_count": 93,
   "metadata": {},
   "outputs": [],
   "source": [
    "EPOCHS = 5\n",
    "BATCH_SIZE = 128\n",
    "\n",
    "\n",
    "for epoch in range(EPOCHS):\n",
    "    for X, Y in dst_train.batch(BATCH_SIZE):\n",
    "        input_gauss = tf.math.pow(X, model.layers[0].alpha)\n",
    "        act_gauss = model.layers[0].layer(input_gauss)\n",
    "        act_gauss_eps = tf.math.pow(act_gauss, model.layers[0].epsilon)\n",
    "        break\n",
    "    break"
   ]
  },
  {
   "cell_type": "code",
   "execution_count": 95,
   "metadata": {},
   "outputs": [
    {
     "data": {
      "text/plain": [
       "(0, 102)"
      ]
     },
     "execution_count": 95,
     "metadata": {},
     "output_type": "execute_result"
    }
   ],
   "source": [
    "tf.math.is_nan(act_gauss).numpy().sum(), tf.math.is_nan(act_gauss_eps).numpy().sum()"
   ]
  },
  {
   "cell_type": "markdown",
   "metadata": {},
   "source": [
    "The outputs of the Gaussian layer don't have any `nan`, but looks like there are negative numbers that are turned into `nan` when doing the power to `epsilon`."
   ]
  },
  {
   "cell_type": "markdown",
   "metadata": {},
   "source": [
    "This raises a new question because... Should there be negative numbers after the layer? The input is squared, so it should be all positive:"
   ]
  },
  {
   "cell_type": "code",
   "execution_count": 98,
   "metadata": {},
   "outputs": [
    {
     "data": {
      "text/plain": [
       "<tf.Tensor: shape=(), dtype=float32, numpy=0.0>"
      ]
     },
     "execution_count": 98,
     "metadata": {},
     "output_type": "execute_result"
    }
   ],
   "source": [
    "tf.reduce_min(input_gauss)"
   ]
  },
  {
   "cell_type": "markdown",
   "metadata": {},
   "source": [
    "And, as far as I know, a Gaussian is positive definite..."
   ]
  },
  {
   "cell_type": "code",
   "execution_count": 99,
   "metadata": {},
   "outputs": [
    {
     "data": {
      "text/plain": [
       "<tf.Tensor: shape=(), dtype=float32, numpy=0.0>"
      ]
     },
     "execution_count": 99,
     "metadata": {},
     "output_type": "execute_result"
    }
   ],
   "source": [
    "tf.reduce_min(model.layers[0].layer.build_filters())"
   ]
  },
  {
   "cell_type": "markdown",
   "metadata": {},
   "source": [
    "But if we check the minimum value of the activation of the gaussian..."
   ]
  },
  {
   "cell_type": "code",
   "execution_count": 106,
   "metadata": {},
   "outputs": [
    {
     "data": {
      "text/plain": [
       "<tf.Tensor: shape=(), dtype=float32, numpy=-4.487083e-07>"
      ]
     },
     "execution_count": 106,
     "metadata": {},
     "output_type": "execute_result"
    }
   ],
   "source": [
    "tf.reduce_min(act_gauss)"
   ]
  },
  {
   "cell_type": "markdown",
   "metadata": {},
   "source": [
    "We find that there are negative numbers, but they are so small... Maybe this is all related to a numerical problem after all?\n",
    "\n",
    "We can plot a histogram of the activations of the gaussian"
   ]
  },
  {
   "cell_type": "code",
   "execution_count": 108,
   "metadata": {},
   "outputs": [
    {
     "data": {
      "image/png": "[encoded data removed]",
      "text/plain": [
       "<Figure size 640x480 with 1 Axes>"
      ]
     },
     "metadata": {},
     "output_type": "display_data"
    }
   ],
   "source": [
    "plt.hist(act_gauss.numpy().ravel(), bins=80)\n",
    "plt.show()"
   ]
  },
  {
   "cell_type": "markdown",
   "metadata": {},
   "source": [
    "But we can't even see the negative numbers... Let's count the numbers that are below 0:"
   ]
  },
  {
   "cell_type": "code",
   "execution_count": 109,
   "metadata": {},
   "outputs": [
    {
     "data": {
      "text/plain": [
       "102"
      ]
     },
     "execution_count": 109,
     "metadata": {},
     "output_type": "execute_result"
    }
   ],
   "source": [
    "(act_gauss.numpy()<0).sum()"
   ]
  },
  {
   "cell_type": "markdown",
   "metadata": {},
   "source": [
    "Curiously enough, there are the same amount of negative numbers that of `nan`... Interesting enough. Let's try to add a clip to the output of the gaussian layer to see if it fixes our `nan` problems:"
   ]
  },
  {
   "cell_type": "code",
   "execution_count": 114,
   "metadata": {},
   "outputs": [],
   "source": [
    "class GDNConv(layers.Layer):\n",
    "    \"\"\"GDN that takes as input a specific layer to use.\"\"\"\n",
    "\n",
    "    def __init__(self,\n",
    "                 layer, # Layer to be used to extract the normalization.\n",
    "                 **kwargs,\n",
    "                 ):\n",
    "        super(GDNConv, self).__init__(**kwargs)\n",
    "        self.layer = layer\n",
    "\n",
    "    def build(self,\n",
    "              input_shape,\n",
    "              ):\n",
    "        self.layer.build(input_shape)\n",
    "        self.alpha = tf.Variable(2, trainable=False, name=\"alpha\", dtype=tf.float32)\n",
    "        self.epsilon = tf.Variable(1/2, trainable=False, name=\"epsilon\", dtype=tf.float32)\n",
    "        # self.beta = tf.Variable(1, trainable=True, name=\"beta\", dtype=tf.float32)\n",
    "\n",
    "    def call(self,\n",
    "             X,\n",
    "             training=False,\n",
    "             ):\n",
    "        norm = tf.math.pow(X, self.alpha)\n",
    "        norm = self.layer(norm, training=training)#+self.beta\n",
    "        norm = tf.clip_by_value(norm, clip_value_min=0, clip_value_max=tf.reduce_max(norm))\n",
    "        norm = tf.math.pow(norm, self.epsilon)\n",
    "        return X / norm"
   ]
  },
  {
   "cell_type": "code",
   "execution_count": 115,
   "metadata": {},
   "outputs": [],
   "source": [
    "model = tf.keras.Sequential([\n",
    "    GDNConv(SimpleGaussian(filters=3, kernel_size=11), input_shape=X_train[0].shape),\n",
    "    layers.Conv2D(filters=32, kernel_size=3, activation=\"relu\"),\n",
    "    layers.MaxPool2D(2),\n",
    "    layers.GlobalAveragePooling2D(),\n",
    "    layers.Dense(10, activation=\"softmax\")\n",
    "])\n",
    "model.compile(optimizer=\"adam\",\n",
    "              loss=\"sparse_categorical_crossentropy\",\n",
    "              metrics=[\"accuracy\"])\n",
    "# model.summary()"
   ]
  },
  {
   "cell_type": "code",
   "execution_count": 116,
   "metadata": {},
   "outputs": [
    {
     "name": "stdout",
     "output_type": "stream",
     "text": [
      "313/313 [==============================] - 9s 21ms/step - loss: 2.3026 - accuracy: 0.0966 - val_loss: 2.3027 - val_accuracy: 0.0952\n"
     ]
    }
   ],
   "source": [
    "history = model.fit(X_train, Y_train, epochs=1, batch_size=128, validation_split=0.2)"
   ]
  },
  {
   "cell_type": "code",
   "execution_count": 117,
   "metadata": {},
   "outputs": [
    {
     "data": {
      "text/plain": [
       "[<tf.Variable 'gdn_conv_8/simple_gaussian_10/x0:0' shape=(3,) dtype=float32, numpy=array([nan, nan, nan], dtype=float32)>,\n",
       " <tf.Variable 'gdn_conv_8/simple_gaussian_10/y0:0' shape=(3,) dtype=float32, numpy=array([nan, nan, nan], dtype=float32)>,\n",
       " <tf.Variable 'gdn_conv_8/simple_gaussian_10/logsigma_x:0' shape=(3,) dtype=float32, numpy=array([nan, nan, nan], dtype=float32)>,\n",
       " <tf.Variable 'gdn_conv_8/simple_gaussian_10/logsigma_y:0' shape=(3,) dtype=float32, numpy=array([nan, nan, nan], dtype=float32)>,\n",
       " <tf.Variable 'gdn_conv_8/alpha:0' shape=() dtype=float32, numpy=2.0>,\n",
       " <tf.Variable 'gdn_conv_8/epsilon:0' shape=() dtype=float32, numpy=0.5>]"
      ]
     },
     "execution_count": 117,
     "metadata": {},
     "output_type": "execute_result"
    }
   ],
   "source": [
    "model.layers[0].variables"
   ]
  },
  {
   "cell_type": "markdown",
   "metadata": {},
   "source": [
    "Still didn't fix it... Let's inspect the activations again..."
   ]
  },
  {
   "cell_type": "code",
   "execution_count": 118,
   "metadata": {},
   "outputs": [],
   "source": [
    "model = tf.keras.Sequential([\n",
    "    GDNConv(SimpleGaussian(filters=3, kernel_size=11), input_shape=X_train[0].shape),\n",
    "    layers.Conv2D(filters=32, kernel_size=3, activation=\"relu\"),\n",
    "    layers.MaxPool2D(2),\n",
    "    layers.GlobalAveragePooling2D(),\n",
    "    layers.Dense(10, activation=\"softmax\")\n",
    "])\n",
    "model.compile(optimizer=\"adam\",\n",
    "              loss=\"sparse_categorical_crossentropy\",\n",
    "              metrics=[\"accuracy\"])\n",
    "# model.summary()"
   ]
  },
  {
   "cell_type": "code",
   "execution_count": 130,
   "metadata": {},
   "outputs": [],
   "source": [
    "EPOCHS = 5\n",
    "BATCH_SIZE = 128\n",
    "\n",
    "\n",
    "for epoch in range(EPOCHS):\n",
    "    for X, Y in dst_train.batch(BATCH_SIZE):\n",
    "        input_gauss = tf.math.pow(X, model.layers[0].alpha)\n",
    "        act_gauss = model.layers[0].layer(input_gauss)\n",
    "        act_gauss_clip = tf.clip_by_value(act_gauss, clip_value_min=0, clip_value_max=tf.reduce_max(act_gauss))\n",
    "        act_gauss_eps = tf.math.pow(act_gauss_clip, model.layers[0].epsilon)\n",
    "        break\n",
    "    break"
   ]
  },
  {
   "cell_type": "code",
   "execution_count": 131,
   "metadata": {},
   "outputs": [
    {
     "data": {
      "text/plain": [
       "(<tf.Tensor: shape=(), dtype=float32, numpy=-6.968912e-08>,\n",
       " <tf.Tensor: shape=(), dtype=float32, numpy=2.6339989>)"
      ]
     },
     "execution_count": 131,
     "metadata": {},
     "output_type": "execute_result"
    }
   ],
   "source": [
    "tf.reduce_min(act_gauss), tf.reduce_max(act_gauss)"
   ]
  },
  {
   "cell_type": "code",
   "execution_count": 132,
   "metadata": {},
   "outputs": [
    {
     "data": {
      "text/plain": [
       "(<tf.Tensor: shape=(), dtype=float32, numpy=0.0>,\n",
       " <tf.Tensor: shape=(), dtype=float32, numpy=2.6339989>)"
      ]
     },
     "execution_count": 132,
     "metadata": {},
     "output_type": "execute_result"
    }
   ],
   "source": [
    "tf.reduce_min(act_gauss_clip), tf.reduce_max(act_gauss_clip)"
   ]
  },
  {
   "cell_type": "code",
   "execution_count": 133,
   "metadata": {},
   "outputs": [
    {
     "data": {
      "text/plain": [
       "(<tf.Tensor: shape=(), dtype=float32, numpy=0.0>,\n",
       " <tf.Tensor: shape=(), dtype=float32, numpy=1.62296>)"
      ]
     },
     "execution_count": 133,
     "metadata": {},
     "output_type": "execute_result"
    }
   ],
   "source": [
    "tf.reduce_min(act_gauss_eps), tf.reduce_max(act_gauss_eps)"
   ]
  },
  {
   "cell_type": "markdown",
   "metadata": {},
   "source": [
    "At least we are not getting `nan` after the power to `epsilon` anymore... Now the problem must be elsewhere... We will look into the division now, it's the only part of the layer we have left. We can predict that there are going to be `nan` because of the division by 0, but we can get around that if we clip our values to a sligtly higher number insted:"
   ]
  },
  {
   "cell_type": "code",
   "execution_count": 135,
   "metadata": {},
   "outputs": [],
   "source": [
    "EPOCHS = 5\n",
    "BATCH_SIZE = 128\n",
    "\n",
    "\n",
    "for epoch in range(EPOCHS):\n",
    "    for X, Y in dst_train.batch(BATCH_SIZE):\n",
    "        input_gauss = tf.math.pow(X, model.layers[0].alpha)\n",
    "        act_gauss = model.layers[0].layer(input_gauss)\n",
    "        act_gauss_clip = tf.clip_by_value(act_gauss, clip_value_min=1e-5, clip_value_max=tf.reduce_max(act_gauss))\n",
    "        act_gauss_eps = tf.math.pow(act_gauss_clip, model.layers[0].epsilon)\n",
    "        X_norm = X / act_gauss_eps\n",
    "        break\n",
    "    break"
   ]
  },
  {
   "cell_type": "code",
   "execution_count": 136,
   "metadata": {},
   "outputs": [
    {
     "data": {
      "text/plain": [
       "(<tf.Tensor: shape=(), dtype=float32, numpy=-6.968912e-08>,\n",
       " <tf.Tensor: shape=(), dtype=float32, numpy=2.6339989>)"
      ]
     },
     "execution_count": 136,
     "metadata": {},
     "output_type": "execute_result"
    }
   ],
   "source": [
    "tf.reduce_min(act_gauss), tf.reduce_max(act_gauss)"
   ]
  },
  {
   "cell_type": "code",
   "execution_count": 137,
   "metadata": {},
   "outputs": [
    {
     "data": {
      "text/plain": [
       "(<tf.Tensor: shape=(), dtype=float32, numpy=1e-05>,\n",
       " <tf.Tensor: shape=(), dtype=float32, numpy=2.6339989>)"
      ]
     },
     "execution_count": 137,
     "metadata": {},
     "output_type": "execute_result"
    }
   ],
   "source": [
    "tf.reduce_min(act_gauss_clip), tf.reduce_max(act_gauss_clip)"
   ]
  },
  {
   "cell_type": "code",
   "execution_count": 138,
   "metadata": {},
   "outputs": [
    {
     "data": {
      "text/plain": [
       "(<tf.Tensor: shape=(), dtype=float32, numpy=0.0031622776>,\n",
       " <tf.Tensor: shape=(), dtype=float32, numpy=1.62296>)"
      ]
     },
     "execution_count": 138,
     "metadata": {},
     "output_type": "execute_result"
    }
   ],
   "source": [
    "tf.reduce_min(act_gauss_eps), tf.reduce_max(act_gauss_eps)"
   ]
  },
  {
   "cell_type": "code",
   "execution_count": 139,
   "metadata": {},
   "outputs": [
    {
     "data": {
      "text/plain": [
       "(<tf.Tensor: shape=(), dtype=float32, numpy=0.0>,\n",
       " <tf.Tensor: shape=(), dtype=float32, numpy=2.5626142>)"
      ]
     },
     "execution_count": 139,
     "metadata": {},
     "output_type": "execute_result"
    }
   ],
   "source": [
    "tf.reduce_min(X_norm), tf.reduce_max(X_norm)"
   ]
  },
  {
   "cell_type": "markdown",
   "metadata": {},
   "source": [
    "Let's see..."
   ]
  },
  {
   "cell_type": "code",
   "execution_count": 140,
   "metadata": {},
   "outputs": [],
   "source": [
    "#| export\n",
    "class GDNConv(layers.Layer):\n",
    "    \"\"\"GDN that takes as input a specific layer to use.\"\"\"\n",
    "\n",
    "    def __init__(self,\n",
    "                 layer, # Layer to be used to extract the normalization.\n",
    "                 **kwargs,\n",
    "                 ):\n",
    "        super(GDNConv, self).__init__(**kwargs)\n",
    "        self.layer = layer\n",
    "\n",
    "    def build(self,\n",
    "              input_shape,\n",
    "              ):\n",
    "        self.layer.build(input_shape)\n",
    "        self.alpha = tf.Variable(2, trainable=False, name=\"alpha\", dtype=tf.float32)\n",
    "        self.epsilon = tf.Variable(1/2, trainable=False, name=\"epsilon\", dtype=tf.float32)\n",
    "        # self.beta = tf.Variable(1, trainable=True, name=\"beta\", dtype=tf.float32)\n",
    "\n",
    "    def call(self,\n",
    "             X,\n",
    "             training=False,\n",
    "             ):\n",
    "        norm = tf.math.pow(X, self.alpha)\n",
    "        norm = self.layer(norm, training=training)#+self.beta\n",
    "        norm = tf.clip_by_value(norm, clip_value_min=1e-5, clip_value_max=tf.reduce_max(norm))\n",
    "        norm = tf.math.pow(norm, self.epsilon)\n",
    "        return X / norm"
   ]
  },
  {
   "cell_type": "code",
   "execution_count": 141,
   "metadata": {},
   "outputs": [],
   "source": [
    "model = tf.keras.Sequential([\n",
    "    GDNConv(SimpleGaussian(filters=3, kernel_size=11), input_shape=X_train[0].shape),\n",
    "    layers.Conv2D(filters=32, kernel_size=3, activation=\"relu\"),\n",
    "    layers.MaxPool2D(2),\n",
    "    layers.GlobalAveragePooling2D(),\n",
    "    layers.Dense(10, activation=\"softmax\")\n",
    "])\n",
    "model.compile(optimizer=\"adam\",\n",
    "              loss=\"sparse_categorical_crossentropy\",\n",
    "              metrics=[\"accuracy\"])\n",
    "# model.summary()"
   ]
  },
  {
   "cell_type": "code",
   "execution_count": 142,
   "metadata": {},
   "outputs": [
    {
     "name": "stdout",
     "output_type": "stream",
     "text": [
      "313/313 [==============================] - 9s 21ms/step - loss: 2.2276 - accuracy: 0.1646 - val_loss: 2.1436 - val_accuracy: 0.1906\n"
     ]
    }
   ],
   "source": [
    "history = model.fit(X_train, Y_train, epochs=1, batch_size=128, validation_split=0.2)"
   ]
  },
  {
   "cell_type": "code",
   "execution_count": 143,
   "metadata": {},
   "outputs": [
    {
     "data": {
      "text/plain": [
       "[<tf.Variable 'gdn_conv_10/simple_gaussian_12/x0:0' shape=(3,) dtype=float32, numpy=array([5.021589 , 5.0748296, 5.033156 ], dtype=float32)>,\n",
       " <tf.Variable 'gdn_conv_10/simple_gaussian_12/y0:0' shape=(3,) dtype=float32, numpy=array([4.541341 , 5.0774646, 5.2000704], dtype=float32)>,\n",
       " <tf.Variable 'gdn_conv_10/simple_gaussian_12/logsigma_x:0' shape=(3,) dtype=float32, numpy=array([ 1.5395051, -1.5839721,  0.3694521], dtype=float32)>,\n",
       " <tf.Variable 'gdn_conv_10/simple_gaussian_12/logsigma_y:0' shape=(3,) dtype=float32, numpy=array([ 0.5664232, -1.3419263, -1.7814674], dtype=float32)>,\n",
       " <tf.Variable 'gdn_conv_10/alpha:0' shape=() dtype=float32, numpy=2.0>,\n",
       " <tf.Variable 'gdn_conv_10/epsilon:0' shape=() dtype=float32, numpy=0.5>]"
      ]
     },
     "execution_count": 143,
     "metadata": {},
     "output_type": "execute_result"
    }
   ],
   "source": [
    "model.layers[0].variables"
   ]
  },
  {
   "cell_type": "markdown",
   "metadata": {},
   "source": [
    "**IT'S TRAINIG NOW**\n",
    "\n",
    "![HURRAY](https://www.memecreator.org/static/images/memes/5145525.jpg \"HURRAY\")"
   ]
  },
  {
   "cell_type": "markdown",
   "metadata": {},
   "source": [
    "## Simple Gaussian as inheriting from `Conv2D`"
   ]
  },
  {
   "cell_type": "code",
   "execution_count": null,
   "metadata": {},
   "outputs": [],
   "source": [
    "class SimpleGaussian2D(layers.Conv2D):\n",
    "    \"\"\"Simple Gaussian implementation inheriting from Keras' Conv2D.\"\"\"\n",
    "\n",
    "    def build(self,\n",
    "              input_shape,\n",
    "              ):\n",
    "        super(SimpleGaussian2D, self).build(input_shape)\n",
    "        self.x0 = tf.Variable([self.kernel_size[0]//2]*self.filters, trainable=True, dtype=tf.float32)\n",
    "        self.y0 = tf.Variable([self.kernel_size[1]//2]*self.filters, trainable=True, dtype=tf.float32)\n",
    "        self.logsigma_x = tf.Variable(np.random.uniform(low=-2, high=2, size=self.filters), trainable=True, dtype=tf.float32)\n",
    "        self.logsigma_y = tf.Variable(np.random.uniform(low=-2, high=2, size=self.filters), trainable=True, dtype=tf.float32)\n",
    "        self.A = tf.Variable(1, trainable=False, name=\"A\", dtype=tf.float32)\n",
    "\n",
    "    @property\n",
    "    def sigma_x(self):\n",
    "        return tf.math.exp(self.logsigma_x)\n",
    "\n",
    "    @property\n",
    "    def sigma_y(self):\n",
    "        return tf.math.exp(self.logsigma_y)\n",
    "\n",
    "    def call(self,\n",
    "             X,\n",
    "             training=False,\n",
    "             ):\n",
    "        \n",
    "        ## 1. Build the filters (n_filters, kernel_size, kernel_size)\n",
    "        filters = self.build_filters()\n",
    "\n",
    "        ## 2. Reshape so they match what Keras expects (Kx, Ky, Cin, Cout)\n",
    "        filters = repeat(filters, \"n_filters kx ky -> kx ky Cin n_filters\", Cin=X.shape[-1])\n",
    "\n",
    "        # return tf.nn.conv2d(X, filters, strides=self.strides, padding=self.padding)\n",
    "        return self.convolution_op(X, filters)\n",
    "    \n",
    "    # @property\n",
    "    # def kernel(self):\n",
    "    #     ## 1. Build the filters (n_filters, kernel_size, kernel_size)\n",
    "    #     filters = self.build_filters()\n",
    "\n",
    "    #     ## 2. Reshape so they match what Keras expects (Kx, Ky, Cin, Cout)\n",
    "    #     filters = repeat(filters, \"n_filters kx ky -> kx ky Cin n_filters\", Cin=X.shape[-1])\n",
    "\n",
    "    #     return filters\n",
    "\n",
    "    @tf.function\n",
    "    def _build_filter(self,\n",
    "                      x, # X domain.\n",
    "                      y, # Y domain.\n",
    "                      x0, # Mean of X.\n",
    "                      y0, # Mean of Y.\n",
    "                      sigma_x, # Width of X.\n",
    "                      sigma_y, # Width of Y.\n",
    "                      A, # Height of the peak.\n",
    "                      ):\n",
    "        \"\"\"Builds the gaussian filters using the parameters of the layer.\"\"\"\n",
    "\n",
    "        ## 2. Build the gaussian\n",
    "        return A*tf.math.exp(-((x-x0)**2/(2*sigma_x**2)+(y-y0)**2/(2*sigma_y**2)))\n",
    "\n",
    "    @tf.function\n",
    "    def build_filters(self):\n",
    "        ## 1. Build domain\n",
    "        x, y = tf.meshgrid(tf.range(self.kernel_size[0]), tf.range(self.kernel_size[1]))\n",
    "        x, y = tf.cast(x, dtype=tf.float32), tf.cast(y, dtype=tf.float32)\n",
    "        \n",
    "        ## 2. Initialize empty `TensorArray`\n",
    "        filters = tf.TensorArray(dtype = tf.float32, size = self.filters)\n",
    "\n",
    "        for n in tf.range(start=0, limit=self.filters, dtype=tf.int32):\n",
    "            filters = filters.write(n, \n",
    "                                    self._build_filter(x, y, \n",
    "                                                       tf.gather(self.x0, n), tf.gather(self.y0, n), \n",
    "                                                       tf.gather(self.sigma_x, n), tf.gather(self.sigma_y, n),\n",
    "                                                       self.A))\n",
    "\n",
    "        filters = filters.stack()\n",
    "        ## Normalize the filters\n",
    "        # if normalize: \n",
    "        #     max_per_filter = reduce(gaussians, \"filters Ncols Nrows -> filters () ()\", \"max\")\n",
    "        #     gaussians = gaussians/(max_per_filter*tf.cast(filters, tf.float32))\n",
    "        return filters\n",
    "\n",
    "    def show_filters(self,\n",
    "                     show=True, # Wether to do plt.show() or not.\n",
    "                     ):\n",
    "        \"\"\"Plots the filters created with the current parameters.\"\"\"\n",
    "        ncols = int(np.sqrt(self.filters))\n",
    "        nrows = int(self.filters-ncols)\n",
    "        if nrows == 0: nrows == 1\n",
    "        filters = self.build_filters().numpy()\n",
    "        fig, axes = plt.subplots(ncols, nrows)\n",
    "        for filter, ax in zip(filters, axes.ravel()):\n",
    "            ax.imshow(filter)\n",
    "            ax.axis(\"off\")\n",
    "        if show: plt.show()"
   ]
  },
  {
   "cell_type": "code",
   "execution_count": 124,
   "metadata": {},
   "outputs": [],
   "source": [
    "sg2d = SimpleGaussian2D(filters=4, kernel_size=11)\n",
    "sg2d.build((None, 28, 28, 1))"
   ]
  },
  {
   "cell_type": "code",
   "execution_count": 125,
   "metadata": {},
   "outputs": [
    {
     "data": {
      "image/png": "[encoded data removed]",
      "text/plain": [
       "<Figure size 640x480 with 4 Axes>"
      ]
     },
     "metadata": {},
     "output_type": "display_data"
    }
   ],
   "source": [
    "sg2d.show_filters()"
   ]
  },
  {
   "cell_type": "code",
   "execution_count": 126,
   "metadata": {},
   "outputs": [
    {
     "ename": "AttributeError",
     "evalue": "in user code:\n\n    /tmp/ipykernel_29294/341854560.py:34 call  *\n        return self.convolution_op(X, filters)\n\n    AttributeError: 'SimpleGaussian2D' object has no attribute 'convolution_op'\n",
     "output_type": "error",
     "traceback": [
      "\u001b[0;31m---------------------------------------------------------------------------\u001b[0m",
      "\u001b[0;31mAttributeError\u001b[0m                            Traceback (most recent call last)",
      "\u001b[1;32m/media/disk/users/vitojor/flayers/Notebooks/Experimental/00_simple_gaussian.ipynb Cell 32\u001b[0m in \u001b[0;36m<cell line: 1>\u001b[0;34m()\u001b[0m\n\u001b[0;32m----> <a href='vscode-notebook-cell://ssh-remote%2Bmegatron.uv.es/media/disk/users/vitojor/flayers/Notebooks/Experimental/00_simple_gaussian.ipynb#X53sdnNjb2RlLXJlbW90ZQ%3D%3D?line=0'>1</a>\u001b[0m model \u001b[39m=\u001b[39m tf\u001b[39m.\u001b[39;49mkeras\u001b[39m.\u001b[39;49mSequential([\n\u001b[1;32m      <a href='vscode-notebook-cell://ssh-remote%2Bmegatron.uv.es/media/disk/users/vitojor/flayers/Notebooks/Experimental/00_simple_gaussian.ipynb#X53sdnNjb2RlLXJlbW90ZQ%3D%3D?line=1'>2</a>\u001b[0m     SimpleGaussian2D(filters\u001b[39m=\u001b[39;49m\u001b[39m3\u001b[39;49m, kernel_size\u001b[39m=\u001b[39;49m\u001b[39m11\u001b[39;49m, input_shape\u001b[39m=\u001b[39;49mX_train[\u001b[39m0\u001b[39;49m]\u001b[39m.\u001b[39;49mshape),\n\u001b[1;32m      <a href='vscode-notebook-cell://ssh-remote%2Bmegatron.uv.es/media/disk/users/vitojor/flayers/Notebooks/Experimental/00_simple_gaussian.ipynb#X53sdnNjb2RlLXJlbW90ZQ%3D%3D?line=2'>3</a>\u001b[0m     layers\u001b[39m.\u001b[39;49mConv2D(filters\u001b[39m=\u001b[39;49m\u001b[39m32\u001b[39;49m, kernel_size\u001b[39m=\u001b[39;49m\u001b[39m3\u001b[39;49m, activation\u001b[39m=\u001b[39;49m\u001b[39m\"\u001b[39;49m\u001b[39mrelu\u001b[39;49m\u001b[39m\"\u001b[39;49m),\n\u001b[1;32m      <a href='vscode-notebook-cell://ssh-remote%2Bmegatron.uv.es/media/disk/users/vitojor/flayers/Notebooks/Experimental/00_simple_gaussian.ipynb#X53sdnNjb2RlLXJlbW90ZQ%3D%3D?line=3'>4</a>\u001b[0m     layers\u001b[39m.\u001b[39;49mMaxPool2D(\u001b[39m2\u001b[39;49m),\n\u001b[1;32m      <a href='vscode-notebook-cell://ssh-remote%2Bmegatron.uv.es/media/disk/users/vitojor/flayers/Notebooks/Experimental/00_simple_gaussian.ipynb#X53sdnNjb2RlLXJlbW90ZQ%3D%3D?line=4'>5</a>\u001b[0m     layers\u001b[39m.\u001b[39;49mGlobalAveragePooling2D(),\n\u001b[1;32m      <a href='vscode-notebook-cell://ssh-remote%2Bmegatron.uv.es/media/disk/users/vitojor/flayers/Notebooks/Experimental/00_simple_gaussian.ipynb#X53sdnNjb2RlLXJlbW90ZQ%3D%3D?line=5'>6</a>\u001b[0m     layers\u001b[39m.\u001b[39;49mDense(\u001b[39m10\u001b[39;49m, activation\u001b[39m=\u001b[39;49m\u001b[39m\"\u001b[39;49m\u001b[39msoftmax\u001b[39;49m\u001b[39m\"\u001b[39;49m)\n\u001b[1;32m      <a href='vscode-notebook-cell://ssh-remote%2Bmegatron.uv.es/media/disk/users/vitojor/flayers/Notebooks/Experimental/00_simple_gaussian.ipynb#X53sdnNjb2RlLXJlbW90ZQ%3D%3D?line=6'>7</a>\u001b[0m ])\n\u001b[1;32m      <a href='vscode-notebook-cell://ssh-remote%2Bmegatron.uv.es/media/disk/users/vitojor/flayers/Notebooks/Experimental/00_simple_gaussian.ipynb#X53sdnNjb2RlLXJlbW90ZQ%3D%3D?line=7'>8</a>\u001b[0m model\u001b[39m.\u001b[39mcompile(optimizer\u001b[39m=\u001b[39m\u001b[39m\"\u001b[39m\u001b[39madam\u001b[39m\u001b[39m\"\u001b[39m,\n\u001b[1;32m      <a href='vscode-notebook-cell://ssh-remote%2Bmegatron.uv.es/media/disk/users/vitojor/flayers/Notebooks/Experimental/00_simple_gaussian.ipynb#X53sdnNjb2RlLXJlbW90ZQ%3D%3D?line=8'>9</a>\u001b[0m               loss\u001b[39m=\u001b[39m\u001b[39m\"\u001b[39m\u001b[39msparse_categorical_crossentropy\u001b[39m\u001b[39m\"\u001b[39m,\n\u001b[1;32m     <a href='vscode-notebook-cell://ssh-remote%2Bmegatron.uv.es/media/disk/users/vitojor/flayers/Notebooks/Experimental/00_simple_gaussian.ipynb#X53sdnNjb2RlLXJlbW90ZQ%3D%3D?line=9'>10</a>\u001b[0m               metrics\u001b[39m=\u001b[39m[\u001b[39m\"\u001b[39m\u001b[39maccuracy\u001b[39m\u001b[39m\"\u001b[39m])\n\u001b[1;32m     <a href='vscode-notebook-cell://ssh-remote%2Bmegatron.uv.es/media/disk/users/vitojor/flayers/Notebooks/Experimental/00_simple_gaussian.ipynb#X53sdnNjb2RlLXJlbW90ZQ%3D%3D?line=10'>11</a>\u001b[0m model\u001b[39m.\u001b[39msummary()\n",
      "File \u001b[0;32m~/miniconda3/envs/tf26/lib/python3.8/site-packages/tensorflow/python/training/tracking/base.py:530\u001b[0m, in \u001b[0;36mno_automatic_dependency_tracking.<locals>._method_wrapper\u001b[0;34m(self, *args, **kwargs)\u001b[0m\n\u001b[1;32m    528\u001b[0m \u001b[39mself\u001b[39m\u001b[39m.\u001b[39m_self_setattr_tracking \u001b[39m=\u001b[39m \u001b[39mFalse\u001b[39;00m  \u001b[39m# pylint: disable=protected-access\u001b[39;00m\n\u001b[1;32m    529\u001b[0m \u001b[39mtry\u001b[39;00m:\n\u001b[0;32m--> 530\u001b[0m   result \u001b[39m=\u001b[39m method(\u001b[39mself\u001b[39;49m, \u001b[39m*\u001b[39;49margs, \u001b[39m*\u001b[39;49m\u001b[39m*\u001b[39;49mkwargs)\n\u001b[1;32m    531\u001b[0m \u001b[39mfinally\u001b[39;00m:\n\u001b[1;32m    532\u001b[0m   \u001b[39mself\u001b[39m\u001b[39m.\u001b[39m_self_setattr_tracking \u001b[39m=\u001b[39m previous_value  \u001b[39m# pylint: disable=protected-access\u001b[39;00m\n",
      "File \u001b[0;32m~/miniconda3/envs/tf26/lib/python3.8/site-packages/keras/engine/sequential.py:134\u001b[0m, in \u001b[0;36mSequential.__init__\u001b[0;34m(self, layers, name)\u001b[0m\n\u001b[1;32m    132\u001b[0m   layers \u001b[39m=\u001b[39m [layers]\n\u001b[1;32m    133\u001b[0m \u001b[39mfor\u001b[39;00m layer \u001b[39min\u001b[39;00m layers:\n\u001b[0;32m--> 134\u001b[0m   \u001b[39mself\u001b[39;49m\u001b[39m.\u001b[39;49madd(layer)\n",
      "File \u001b[0;32m~/miniconda3/envs/tf26/lib/python3.8/site-packages/tensorflow/python/training/tracking/base.py:530\u001b[0m, in \u001b[0;36mno_automatic_dependency_tracking.<locals>._method_wrapper\u001b[0;34m(self, *args, **kwargs)\u001b[0m\n\u001b[1;32m    528\u001b[0m \u001b[39mself\u001b[39m\u001b[39m.\u001b[39m_self_setattr_tracking \u001b[39m=\u001b[39m \u001b[39mFalse\u001b[39;00m  \u001b[39m# pylint: disable=protected-access\u001b[39;00m\n\u001b[1;32m    529\u001b[0m \u001b[39mtry\u001b[39;00m:\n\u001b[0;32m--> 530\u001b[0m   result \u001b[39m=\u001b[39m method(\u001b[39mself\u001b[39;49m, \u001b[39m*\u001b[39;49margs, \u001b[39m*\u001b[39;49m\u001b[39m*\u001b[39;49mkwargs)\n\u001b[1;32m    531\u001b[0m \u001b[39mfinally\u001b[39;00m:\n\u001b[1;32m    532\u001b[0m   \u001b[39mself\u001b[39m\u001b[39m.\u001b[39m_self_setattr_tracking \u001b[39m=\u001b[39m previous_value  \u001b[39m# pylint: disable=protected-access\u001b[39;00m\n",
      "File \u001b[0;32m~/miniconda3/envs/tf26/lib/python3.8/site-packages/keras/engine/sequential.py:202\u001b[0m, in \u001b[0;36mSequential.add\u001b[0;34m(self, layer)\u001b[0m\n\u001b[1;32m    197\u001b[0m     x \u001b[39m=\u001b[39m input_layer\u001b[39m.\u001b[39mInput(\n\u001b[1;32m    198\u001b[0m         batch_shape\u001b[39m=\u001b[39mbatch_shape, dtype\u001b[39m=\u001b[39mdtype, name\u001b[39m=\u001b[39mlayer\u001b[39m.\u001b[39mname \u001b[39m+\u001b[39m \u001b[39m'\u001b[39m\u001b[39m_input\u001b[39m\u001b[39m'\u001b[39m)\n\u001b[1;32m    199\u001b[0m     \u001b[39m# This will build the current layer\u001b[39;00m\n\u001b[1;32m    200\u001b[0m     \u001b[39m# and create the node connecting the current layer\u001b[39;00m\n\u001b[1;32m    201\u001b[0m     \u001b[39m# to the input layer we just created.\u001b[39;00m\n\u001b[0;32m--> 202\u001b[0m     layer(x)\n\u001b[1;32m    203\u001b[0m     set_inputs \u001b[39m=\u001b[39m \u001b[39mTrue\u001b[39;00m\n\u001b[1;32m    205\u001b[0m \u001b[39mif\u001b[39;00m set_inputs:\n",
      "File \u001b[0;32m~/miniconda3/envs/tf26/lib/python3.8/site-packages/keras/engine/base_layer.py:976\u001b[0m, in \u001b[0;36mLayer.__call__\u001b[0;34m(self, *args, **kwargs)\u001b[0m\n\u001b[1;32m    970\u001b[0m \u001b[39m# Functional Model construction mode is invoked when `Layer`s are called on\u001b[39;00m\n\u001b[1;32m    971\u001b[0m \u001b[39m# symbolic `KerasTensor`s, i.e.:\u001b[39;00m\n\u001b[1;32m    972\u001b[0m \u001b[39m# >> inputs = tf.keras.Input(10)\u001b[39;00m\n\u001b[1;32m    973\u001b[0m \u001b[39m# >> outputs = MyLayer()(inputs)  # Functional construction mode.\u001b[39;00m\n\u001b[1;32m    974\u001b[0m \u001b[39m# >> model = tf.keras.Model(inputs, outputs)\u001b[39;00m\n\u001b[1;32m    975\u001b[0m \u001b[39mif\u001b[39;00m _in_functional_construction_mode(\u001b[39mself\u001b[39m, inputs, args, kwargs, input_list):\n\u001b[0;32m--> 976\u001b[0m   \u001b[39mreturn\u001b[39;00m \u001b[39mself\u001b[39;49m\u001b[39m.\u001b[39;49m_functional_construction_call(inputs, args, kwargs,\n\u001b[1;32m    977\u001b[0m                                             input_list)\n\u001b[1;32m    979\u001b[0m \u001b[39m# Maintains info about the `Layer.call` stack.\u001b[39;00m\n\u001b[1;32m    980\u001b[0m call_context \u001b[39m=\u001b[39m base_layer_utils\u001b[39m.\u001b[39mcall_context()\n",
      "File \u001b[0;32m~/miniconda3/envs/tf26/lib/python3.8/site-packages/keras/engine/base_layer.py:1114\u001b[0m, in \u001b[0;36mLayer._functional_construction_call\u001b[0;34m(self, inputs, args, kwargs, input_list)\u001b[0m\n\u001b[1;32m   1109\u001b[0m     training_arg_passed_by_framework \u001b[39m=\u001b[39m \u001b[39mTrue\u001b[39;00m\n\u001b[1;32m   1111\u001b[0m \u001b[39mwith\u001b[39;00m call_context\u001b[39m.\u001b[39menter(\n\u001b[1;32m   1112\u001b[0m     layer\u001b[39m=\u001b[39m\u001b[39mself\u001b[39m, inputs\u001b[39m=\u001b[39minputs, build_graph\u001b[39m=\u001b[39m\u001b[39mTrue\u001b[39;00m, training\u001b[39m=\u001b[39mtraining_value):\n\u001b[1;32m   1113\u001b[0m   \u001b[39m# Check input assumptions set after layer building, e.g. input shape.\u001b[39;00m\n\u001b[0;32m-> 1114\u001b[0m   outputs \u001b[39m=\u001b[39m \u001b[39mself\u001b[39;49m\u001b[39m.\u001b[39;49m_keras_tensor_symbolic_call(\n\u001b[1;32m   1115\u001b[0m       inputs, input_masks, args, kwargs)\n\u001b[1;32m   1117\u001b[0m   \u001b[39mif\u001b[39;00m outputs \u001b[39mis\u001b[39;00m \u001b[39mNone\u001b[39;00m:\n\u001b[1;32m   1118\u001b[0m     \u001b[39mraise\u001b[39;00m \u001b[39mValueError\u001b[39;00m(\u001b[39m'\u001b[39m\u001b[39mA layer\u001b[39m\u001b[39m\\'\u001b[39;00m\u001b[39ms `call` method should return a \u001b[39m\u001b[39m'\u001b[39m\n\u001b[1;32m   1119\u001b[0m                      \u001b[39m'\u001b[39m\u001b[39mTensor or a list of Tensors, not None \u001b[39m\u001b[39m'\u001b[39m\n\u001b[1;32m   1120\u001b[0m                      \u001b[39m'\u001b[39m\u001b[39m(layer: \u001b[39m\u001b[39m'\u001b[39m \u001b[39m+\u001b[39m \u001b[39mself\u001b[39m\u001b[39m.\u001b[39mname \u001b[39m+\u001b[39m \u001b[39m'\u001b[39m\u001b[39m).\u001b[39m\u001b[39m'\u001b[39m)\n",
      "File \u001b[0;32m~/miniconda3/envs/tf26/lib/python3.8/site-packages/keras/engine/base_layer.py:848\u001b[0m, in \u001b[0;36mLayer._keras_tensor_symbolic_call\u001b[0;34m(self, inputs, input_masks, args, kwargs)\u001b[0m\n\u001b[1;32m    846\u001b[0m   \u001b[39mreturn\u001b[39;00m tf\u001b[39m.\u001b[39mnest\u001b[39m.\u001b[39mmap_structure(keras_tensor\u001b[39m.\u001b[39mKerasTensor, output_signature)\n\u001b[1;32m    847\u001b[0m \u001b[39melse\u001b[39;00m:\n\u001b[0;32m--> 848\u001b[0m   \u001b[39mreturn\u001b[39;00m \u001b[39mself\u001b[39;49m\u001b[39m.\u001b[39;49m_infer_output_signature(inputs, args, kwargs, input_masks)\n",
      "File \u001b[0;32m~/miniconda3/envs/tf26/lib/python3.8/site-packages/keras/engine/base_layer.py:888\u001b[0m, in \u001b[0;36mLayer._infer_output_signature\u001b[0;34m(self, inputs, args, kwargs, input_masks)\u001b[0m\n\u001b[1;32m    886\u001b[0m     \u001b[39mself\u001b[39m\u001b[39m.\u001b[39m_maybe_build(inputs)\n\u001b[1;32m    887\u001b[0m     inputs \u001b[39m=\u001b[39m \u001b[39mself\u001b[39m\u001b[39m.\u001b[39m_maybe_cast_inputs(inputs)\n\u001b[0;32m--> 888\u001b[0m     outputs \u001b[39m=\u001b[39m call_fn(inputs, \u001b[39m*\u001b[39;49margs, \u001b[39m*\u001b[39;49m\u001b[39m*\u001b[39;49mkwargs)\n\u001b[1;32m    890\u001b[0m   \u001b[39mself\u001b[39m\u001b[39m.\u001b[39m_handle_activity_regularization(inputs, outputs)\n\u001b[1;32m    891\u001b[0m \u001b[39mself\u001b[39m\u001b[39m.\u001b[39m_set_mask_metadata(inputs, outputs, input_masks,\n\u001b[1;32m    892\u001b[0m                         build_graph\u001b[39m=\u001b[39m\u001b[39mFalse\u001b[39;00m)\n",
      "File \u001b[0;32m~/miniconda3/envs/tf26/lib/python3.8/site-packages/tensorflow/python/autograph/impl/api.py:695\u001b[0m, in \u001b[0;36mconvert.<locals>.decorator.<locals>.wrapper\u001b[0;34m(*args, **kwargs)\u001b[0m\n\u001b[1;32m    693\u001b[0m \u001b[39mexcept\u001b[39;00m \u001b[39mException\u001b[39;00m \u001b[39mas\u001b[39;00m e:  \u001b[39m# pylint:disable=broad-except\u001b[39;00m\n\u001b[1;32m    694\u001b[0m   \u001b[39mif\u001b[39;00m \u001b[39mhasattr\u001b[39m(e, \u001b[39m'\u001b[39m\u001b[39mag_error_metadata\u001b[39m\u001b[39m'\u001b[39m):\n\u001b[0;32m--> 695\u001b[0m     \u001b[39mraise\u001b[39;00m e\u001b[39m.\u001b[39mag_error_metadata\u001b[39m.\u001b[39mto_exception(e)\n\u001b[1;32m    696\u001b[0m   \u001b[39melse\u001b[39;00m:\n\u001b[1;32m    697\u001b[0m     \u001b[39mraise\u001b[39;00m\n",
      "\u001b[0;31mAttributeError\u001b[0m: in user code:\n\n    /tmp/ipykernel_29294/341854560.py:34 call  *\n        return self.convolution_op(X, filters)\n\n    AttributeError: 'SimpleGaussian2D' object has no attribute 'convolution_op'\n"
     ]
    }
   ],
   "source": [
    "model = tf.keras.Sequential([\n",
    "    SimpleGaussian2D(filters=3, kernel_size=11, input_shape=X_train[0].shape),\n",
    "    layers.Conv2D(filters=32, kernel_size=3, activation=\"relu\"),\n",
    "    layers.MaxPool2D(2),\n",
    "    layers.GlobalAveragePooling2D(),\n",
    "    layers.Dense(10, activation=\"softmax\")\n",
    "])\n",
    "model.compile(optimizer=\"adam\",\n",
    "              loss=\"sparse_categorical_crossentropy\",\n",
    "              metrics=[\"accuracy\"])\n",
    "model.summary()"
   ]
  },
  {
   "cell_type": "code",
   "execution_count": null,
   "metadata": {},
   "outputs": [
    {
     "name": "stdout",
     "output_type": "stream",
     "text": [
      "Epoch 1/5\n",
      "313/313 [==============================] - 8s 20ms/step - loss: 2.3027 - accuracy: 0.0997 - val_loss: 2.3027 - val_accuracy: 0.0952\n",
      "Epoch 2/5\n",
      "313/313 [==============================] - 5s 16ms/step - loss: 2.3027 - accuracy: 0.1003 - val_loss: 2.3027 - val_accuracy: 0.0952\n",
      "Epoch 3/5\n",
      "313/313 [==============================] - 5s 16ms/step - loss: 2.3027 - accuracy: 0.0998 - val_loss: 2.3028 - val_accuracy: 0.0952\n",
      "Epoch 4/5\n",
      "313/313 [==============================] - 5s 16ms/step - loss: 2.3027 - accuracy: 0.1012 - val_loss: 2.3027 - val_accuracy: 0.0980\n",
      "Epoch 5/5\n",
      "313/313 [==============================] - 5s 16ms/step - loss: 2.3027 - accuracy: 0.0982 - val_loss: 2.3027 - val_accuracy: 0.0952\n"
     ]
    }
   ],
   "source": [
    "history = model.fit(X_train, Y_train, epochs=5, batch_size=128, validation_split=0.2)"
   ]
  },
  {
   "cell_type": "code",
   "execution_count": null,
   "metadata": {},
   "outputs": [
    {
     "data": {
      "text/plain": [
       "[<tf.Variable 'gdn_conv_3/simple_gaussian_14/Variable:0' shape=(3,) dtype=float32, numpy=array([nan, nan, nan], dtype=float32)>,\n",
       " <tf.Variable 'gdn_conv_3/simple_gaussian_14/Variable:0' shape=(3,) dtype=float32, numpy=array([nan, nan, nan], dtype=float32)>,\n",
       " <tf.Variable 'gdn_conv_3/simple_gaussian_14/Variable:0' shape=(3,) dtype=float32, numpy=array([nan, nan, nan], dtype=float32)>,\n",
       " <tf.Variable 'gdn_conv_3/simple_gaussian_14/Variable:0' shape=(3,) dtype=float32, numpy=array([nan, nan, nan], dtype=float32)>]"
      ]
     },
     "metadata": {},
     "output_type": "display_data"
    }
   ],
   "source": [
    "model.layers[0].layer.trainable_variables"
   ]
  }
 ],
 "metadata": {
  "kernelspec": {
   "display_name": "Python 3.8.12 ('tf26')",
   "language": "python",
   "name": "python3"
  },
  "language_info": {
   "codemirror_mode": {
    "name": "ipython",
    "version": 3
   },
   "file_extension": ".py",
   "mimetype": "text/x-python",
   "name": "python",
   "nbconvert_exporter": "python",
   "pygments_lexer": "ipython3",
   "version": "3.8.12"
  },
  "orig_nbformat": 4,
  "vscode": {
   "interpreter": {
    "hash": "0e5e7d3ec6da8cae83531001485d926ded04fa3b6e3dfe28c110c78c0ec74159"
   }
  }
 },
 "nbformat": 4,
 "nbformat_minor": 2
}
